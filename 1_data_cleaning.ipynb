{
 "cells": [
  {
   "cell_type": "markdown",
   "metadata": {},
   "source": [
    "# Part 1: Data Cleaning\n",
    "\n",
    "#### Author: Ali Eddeb\n",
    "\n",
    "In this notebook, I will be loading and cleaning an Amazon review dataset for use in this project. To reiterate, the goal of this project is to spot fake reviews."
   ]
  },
  {
   "cell_type": "code",
   "execution_count": 1,
   "metadata": {},
   "outputs": [],
   "source": [
    "#importing pandas\n",
    "import pandas as pd"
   ]
  },
  {
   "cell_type": "markdown",
   "metadata": {},
   "source": [
    "### 1. Data Loading\n",
    "I will start by loading in the data. As the whole dataset is incredibly large (34 gb!), I will only work with a smaller subset. Specifically, I will work with reviews for just the Beauty product category."
   ]
  },
  {
   "cell_type": "code",
   "execution_count": 2,
   "metadata": {},
   "outputs": [],
   "source": [
    "#let's work with one set of reviews for the beauty category; it is in a compressed .gz format so will need to unzip using gzip\n",
    "beauty_df = pd.read_json('All_Beauty.json.gz', compression='gzip', lines=True)"
   ]
  },
  {
   "cell_type": "code",
   "execution_count": 3,
   "metadata": {},
   "outputs": [
    {
     "data": {
      "text/plain": [
       "(371345, 12)"
      ]
     },
     "execution_count": 3,
     "metadata": {},
     "output_type": "execute_result"
    }
   ],
   "source": [
    "#how big is the dataset?\n",
    "beauty_df.shape"
   ]
  },
  {
   "cell_type": "markdown",
   "metadata": {},
   "source": [
    "We can see the Amazon review dataset for the beauty product category has 371,345 reviews and 12 features."
   ]
  },
  {
   "cell_type": "code",
   "execution_count": 5,
   "metadata": {},
   "outputs": [
    {
     "data": {
      "text/html": [
       "<div>\n",
       "<style scoped>\n",
       "    .dataframe tbody tr th:only-of-type {\n",
       "        vertical-align: middle;\n",
       "    }\n",
       "\n",
       "    .dataframe tbody tr th {\n",
       "        vertical-align: top;\n",
       "    }\n",
       "\n",
       "    .dataframe thead th {\n",
       "        text-align: right;\n",
       "    }\n",
       "</style>\n",
       "<table border=\"1\" class=\"dataframe\">\n",
       "  <thead>\n",
       "    <tr style=\"text-align: right;\">\n",
       "      <th></th>\n",
       "      <th>overall</th>\n",
       "      <th>verified</th>\n",
       "      <th>reviewTime</th>\n",
       "      <th>reviewerID</th>\n",
       "      <th>asin</th>\n",
       "      <th>reviewerName</th>\n",
       "      <th>reviewText</th>\n",
       "      <th>summary</th>\n",
       "      <th>unixReviewTime</th>\n",
       "      <th>vote</th>\n",
       "      <th>style</th>\n",
       "      <th>image</th>\n",
       "    </tr>\n",
       "  </thead>\n",
       "  <tbody>\n",
       "    <tr>\n",
       "      <td>371342</td>\n",
       "      <td>5</td>\n",
       "      <td>True</td>\n",
       "      <td>03 1, 2017</td>\n",
       "      <td>A1B5DK6CTP2P24</td>\n",
       "      <td>B01HJEGTYK</td>\n",
       "      <td>Norma Jennings</td>\n",
       "      <td>Makes me look good fast.</td>\n",
       "      <td>Five Stars</td>\n",
       "      <td>1488326400</td>\n",
       "      <td>46</td>\n",
       "      <td>NaN</td>\n",
       "      <td>NaN</td>\n",
       "    </tr>\n",
       "    <tr>\n",
       "      <td>371343</td>\n",
       "      <td>2</td>\n",
       "      <td>True</td>\n",
       "      <td>02 21, 2017</td>\n",
       "      <td>A23OUYS5IRMJS9</td>\n",
       "      <td>B01HJEGTYK</td>\n",
       "      <td>Lee</td>\n",
       "      <td>Way lighter than photo\\nNot mix blend of color...</td>\n",
       "      <td>Ok but color way off and volume as well</td>\n",
       "      <td>1487635200</td>\n",
       "      <td>NaN</td>\n",
       "      <td>NaN</td>\n",
       "      <td>NaN</td>\n",
       "    </tr>\n",
       "    <tr>\n",
       "      <td>371344</td>\n",
       "      <td>2</td>\n",
       "      <td>True</td>\n",
       "      <td>12 15, 2016</td>\n",
       "      <td>A24KQ9RVU81L87</td>\n",
       "      <td>B01HJEGTYK</td>\n",
       "      <td>Season341</td>\n",
       "      <td>No return instructions/phone # in packaging.  ...</td>\n",
       "      <td>Might return for a replacement if I could.</td>\n",
       "      <td>1481760000</td>\n",
       "      <td>NaN</td>\n",
       "      <td>NaN</td>\n",
       "      <td>NaN</td>\n",
       "    </tr>\n",
       "  </tbody>\n",
       "</table>\n",
       "</div>"
      ],
      "text/plain": [
       "        overall  verified   reviewTime      reviewerID        asin  \\\n",
       "371342        5      True   03 1, 2017  A1B5DK6CTP2P24  B01HJEGTYK   \n",
       "371343        2      True  02 21, 2017  A23OUYS5IRMJS9  B01HJEGTYK   \n",
       "371344        2      True  12 15, 2016  A24KQ9RVU81L87  B01HJEGTYK   \n",
       "\n",
       "          reviewerName                                         reviewText  \\\n",
       "371342  Norma Jennings                           Makes me look good fast.   \n",
       "371343             Lee  Way lighter than photo\\nNot mix blend of color...   \n",
       "371344       Season341  No return instructions/phone # in packaging.  ...   \n",
       "\n",
       "                                           summary  unixReviewTime vote style  \\\n",
       "371342                                  Five Stars      1488326400   46   NaN   \n",
       "371343     Ok but color way off and volume as well      1487635200  NaN   NaN   \n",
       "371344  Might return for a replacement if I could.      1481760000  NaN   NaN   \n",
       "\n",
       "       image  \n",
       "371342   NaN  \n",
       "371343   NaN  \n",
       "371344   NaN  "
      ]
     },
     "execution_count": 5,
     "metadata": {},
     "output_type": "execute_result"
    }
   ],
   "source": [
    "#let's see what was loaded\n",
    "beauty_df.tail(3)"
   ]
  },
  {
   "cell_type": "markdown",
   "metadata": {},
   "source": [
    "Each row represents a review for a product. Here is a quick rundown of what each feature represents based on my research:\n",
    "- overall - represents the customer's rating of the product, on a scale from 1 to 5\n",
    "- verified - represents whether or not the review is associated with a verified purchase of the product\n",
    "- reviewTime - the date the review was published on Amazon \n",
    "- reviewerID - a unique ID for the customer that is submitting the review\n",
    "- asin - a unique ID for the product that is being reviewed\n",
    "- reviewerName - the customer's name \n",
    "- reviewText - the customer's review\n",
    "- summary - the title for the review which is also submitted by the customer \n",
    "- unixReviewTime - the date the review was published on Amazon in unix time\n",
    "- vote - number of votes from other people that found the review helpful\n",
    "- style - the version or style of the product (this is a product specific field) \n",
    "- image - url link(s) to image(s) of the product (this is a product specific field) "
   ]
  },
  {
   "cell_type": "markdown",
   "metadata": {},
   "source": [
    "### 2. Data Cleaning\n",
    "Let's take a look at the data and see what needs to be cleaned."
   ]
  },
  {
   "cell_type": "markdown",
   "metadata": {},
   "source": [
    "#### 2.1 Null Values"
   ]
  },
  {
   "cell_type": "code",
   "execution_count": 7,
   "metadata": {},
   "outputs": [
    {
     "data": {
      "text/plain": [
       "overall           0.000000\n",
       "verified          0.000000\n",
       "reviewTime        0.000000\n",
       "reviewerID        0.000000\n",
       "asin              0.000000\n",
       "reviewerName      0.000102\n",
       "reviewText        0.001074\n",
       "summary           0.000555\n",
       "unixReviewTime    0.000000\n",
       "vote              0.860240\n",
       "style             0.660806\n",
       "image             0.977404\n",
       "dtype: float64"
      ]
     },
     "execution_count": 7,
     "metadata": {},
     "output_type": "execute_result"
    }
   ],
   "source": [
    "#check percentage of nulls per column\n",
    "beauty_df.isna().sum()/len(beauty_df)"
   ]
  },
  {
   "cell_type": "markdown",
   "metadata": {},
   "source": [
    "Features with null values are: reviewerName, reviewText, summary, vote, style, and image. Here is what I will do for each:\n",
    "\n",
    "- reviewerName - I noticed that there are some customers that are named 'Amazon Customer'. I am assuming these individuals did not fill in their name and the default value was 'Amazon Customer'. Therefore, for any nulls, **I will fill them in with 'Amazon Customer'** to indicate they are unnamed.\n",
    "- reviewText - The whole purpose of this project is to explore the text in the reviews. For that reason, **any rows with no review text will be removed**. Luckily, there are very few rows that are missing review text.\n",
    "- summary - Because the summary is a reflection of the reviewText, for any rows that are missing a summary, **I will fill them in with the text in the reviewText field**. Note: there is a very low percentage of NaNs in the summary field (<0.06%) so this should not greatly affect \n",
    "- vote - There are a lot of missing values in this column (86%). After visiting Amazon's website and looking at some reviews, I noticed if a review was found helpful (ie. it had votes), there was an html tag for this variable. If no one found the review helpful, there was no html tag. What this means is if there is null value, it actually means there were 0 votes for the review. Therefore, **I will fill missing values with 0**. \n",
    "- style - there is a high percentage of missing values in this field and it is also a product specific field (ie. irrelevant). For those reasons, **I will remove this feature entirely**.\n",
    "- image - there is a high percentage of missing values in this field and it is also a product specific field (ie. irrelevant). For those reasons, **I will remove this feature entirely**."
   ]
  },
  {
   "cell_type": "markdown",
   "metadata": {},
   "source": [
    "#### 2.2 Data Types"
   ]
  },
  {
   "cell_type": "code",
   "execution_count": 6,
   "metadata": {},
   "outputs": [
    {
     "name": "stdout",
     "output_type": "stream",
     "text": [
      "<class 'pandas.core.frame.DataFrame'>\n",
      "RangeIndex: 371345 entries, 0 to 371344\n",
      "Data columns (total 12 columns):\n",
      "overall           371345 non-null int64\n",
      "verified          371345 non-null bool\n",
      "reviewTime        371345 non-null object\n",
      "reviewerID        371345 non-null object\n",
      "asin              371345 non-null object\n",
      "reviewerName      371307 non-null object\n",
      "reviewText        370946 non-null object\n",
      "summary           371139 non-null object\n",
      "unixReviewTime    371345 non-null int64\n",
      "vote              51899 non-null object\n",
      "style             125958 non-null object\n",
      "image             8391 non-null object\n",
      "dtypes: bool(1), int64(2), object(9)\n",
      "memory usage: 31.5+ MB\n"
     ]
    }
   ],
   "source": [
    "#Let's check the data types of each feature\n",
    "beauty_df.info()"
   ]
  },
  {
   "cell_type": "markdown",
   "metadata": {},
   "source": [
    "After reviewing the columns, I have found that the following columns do not have a suitable dtype and need to be adjusted:\n",
    "- verified - is currently boolean. In order to be used in the analysis, it needs to be numeric. I will convert this feature to **binary**.\n",
    "- reviewTime - needs to be converted to type **datetime**\n",
    "- vote - needs to be converted to type **int**\n",
    "\n",
    "Note: I will not be converting unixReviewTime because I will be removing this feature entirely so no need for wasted efforts. I am removing the unixReviewTime feature entirely because it is redundant as we already have the reviewTime column which contains the same information. I did a check (not shown here) and both reviewTime and unixReviewTime only contain dates but no time data."
   ]
  },
  {
   "cell_type": "markdown",
   "metadata": {},
   "source": [
    "#### Function for cleaning"
   ]
  },
  {
   "cell_type": "markdown",
   "metadata": {},
   "source": [
    "Now I will aggregate all that was mentioned above and create a function to clean the dataframe."
   ]
  },
  {
   "cell_type": "code",
   "execution_count": 7,
   "metadata": {},
   "outputs": [],
   "source": [
    "def cleanDF(dataframe):\n",
    "    '''\n",
    "    Pass in a dataframe that contains an amazon review dataset to be cleaned.\n",
    "    Assumption: dataframe was loaded in and no manipulation has occured.\n",
    "    \n",
    "    Returns cleaned dataframe\n",
    "    '''\n",
    "    #drop 'style', 'image' and 'unixReviewTime' columns\n",
    "    modified_df = dataframe.drop(['style','image', 'unixReviewTime'], axis = 1)\n",
    "    \n",
    "    #remove rows with no review text\n",
    "    modified_df = modified_df.dropna(axis = 0, subset = ['reviewText'])\n",
    "    \n",
    "    #first need to remove commas from vote column in order to convert to type int\n",
    "    modified_df['vote'] = modified_df['vote'].str.replace(',','')\n",
    "    #fill NaNs in vote column with zeroes and change votes from type object to int\n",
    "    modified_df['vote'] = modified_df['vote'].fillna(0).astype(int)\n",
    "    \n",
    "    #fill empty summaries with review text\n",
    "    modified_df['summary'].fillna(modified_df['reviewText'], inplace = True)\n",
    "    \n",
    "    #fill empty names with 'Amazon Customer'\n",
    "    modified_df['reviewerName'].fillna('Amazon Customer', inplace = True)\n",
    "    \n",
    "    #change review time to type datetime for later modifications\n",
    "    modified_df = modified_df.astype({'reviewTime': 'datetime64[ns]'})\n",
    "    \n",
    "    #Convert True and False under verified purchase column to binary\n",
    "    map_dict = {False:0, True:1}\n",
    "    modified_df['verified'] = modified_df['verified'].map(map_dict)\n",
    "    \n",
    "    #need to reset index\n",
    "    modified_df = modified_df.reset_index().drop('index', axis=1)\n",
    "    \n",
    "    return modified_df"
   ]
  },
  {
   "cell_type": "markdown",
   "metadata": {},
   "source": [
    "Now let's use the function on the beauty dataframe in order to clean it."
   ]
  },
  {
   "cell_type": "code",
   "execution_count": 8,
   "metadata": {},
   "outputs": [],
   "source": [
    "#cleaning beauty_df and saving it to new dataframe called clean_beauty_df\n",
    "clean_beauty_df = cleanDF(beauty_df)"
   ]
  },
  {
   "cell_type": "code",
   "execution_count": 9,
   "metadata": {},
   "outputs": [
    {
     "data": {
      "text/html": [
       "<div>\n",
       "<style scoped>\n",
       "    .dataframe tbody tr th:only-of-type {\n",
       "        vertical-align: middle;\n",
       "    }\n",
       "\n",
       "    .dataframe tbody tr th {\n",
       "        vertical-align: top;\n",
       "    }\n",
       "\n",
       "    .dataframe thead th {\n",
       "        text-align: right;\n",
       "    }\n",
       "</style>\n",
       "<table border=\"1\" class=\"dataframe\">\n",
       "  <thead>\n",
       "    <tr style=\"text-align: right;\">\n",
       "      <th></th>\n",
       "      <th>overall</th>\n",
       "      <th>verified</th>\n",
       "      <th>reviewTime</th>\n",
       "      <th>reviewerID</th>\n",
       "      <th>asin</th>\n",
       "      <th>reviewerName</th>\n",
       "      <th>reviewText</th>\n",
       "      <th>summary</th>\n",
       "      <th>vote</th>\n",
       "    </tr>\n",
       "  </thead>\n",
       "  <tbody>\n",
       "    <tr>\n",
       "      <td>370943</td>\n",
       "      <td>5</td>\n",
       "      <td>1</td>\n",
       "      <td>2017-03-01</td>\n",
       "      <td>A1B5DK6CTP2P24</td>\n",
       "      <td>B01HJEGTYK</td>\n",
       "      <td>Norma Jennings</td>\n",
       "      <td>Makes me look good fast.</td>\n",
       "      <td>Five Stars</td>\n",
       "      <td>46</td>\n",
       "    </tr>\n",
       "    <tr>\n",
       "      <td>370944</td>\n",
       "      <td>2</td>\n",
       "      <td>1</td>\n",
       "      <td>2017-02-21</td>\n",
       "      <td>A23OUYS5IRMJS9</td>\n",
       "      <td>B01HJEGTYK</td>\n",
       "      <td>Lee</td>\n",
       "      <td>Way lighter than photo\\nNot mix blend of color...</td>\n",
       "      <td>Ok but color way off and volume as well</td>\n",
       "      <td>0</td>\n",
       "    </tr>\n",
       "    <tr>\n",
       "      <td>370945</td>\n",
       "      <td>2</td>\n",
       "      <td>1</td>\n",
       "      <td>2016-12-15</td>\n",
       "      <td>A24KQ9RVU81L87</td>\n",
       "      <td>B01HJEGTYK</td>\n",
       "      <td>Season341</td>\n",
       "      <td>No return instructions/phone # in packaging.  ...</td>\n",
       "      <td>Might return for a replacement if I could.</td>\n",
       "      <td>0</td>\n",
       "    </tr>\n",
       "  </tbody>\n",
       "</table>\n",
       "</div>"
      ],
      "text/plain": [
       "        overall  verified reviewTime      reviewerID        asin  \\\n",
       "370943        5         1 2017-03-01  A1B5DK6CTP2P24  B01HJEGTYK   \n",
       "370944        2         1 2017-02-21  A23OUYS5IRMJS9  B01HJEGTYK   \n",
       "370945        2         1 2016-12-15  A24KQ9RVU81L87  B01HJEGTYK   \n",
       "\n",
       "          reviewerName                                         reviewText  \\\n",
       "370943  Norma Jennings                           Makes me look good fast.   \n",
       "370944             Lee  Way lighter than photo\\nNot mix blend of color...   \n",
       "370945       Season341  No return instructions/phone # in packaging.  ...   \n",
       "\n",
       "                                           summary  vote  \n",
       "370943                                  Five Stars    46  \n",
       "370944     Ok but color way off and volume as well     0  \n",
       "370945  Might return for a replacement if I could.     0  "
      ]
     },
     "execution_count": 9,
     "metadata": {},
     "output_type": "execute_result"
    }
   ],
   "source": [
    "#let's see what the cleaned df looks like\n",
    "clean_beauty_df.tail(3)"
   ]
  },
  {
   "cell_type": "markdown",
   "metadata": {},
   "source": [
    "Looks good! I will save the cleanDF function to python script called **functions_library** so that I can use this function for later notebooks."
   ]
  },
  {
   "cell_type": "markdown",
   "metadata": {},
   "source": [
    "### 3. Verification - is the data clean?"
   ]
  },
  {
   "cell_type": "markdown",
   "metadata": {},
   "source": [
    "Lastly, before moving onto data exploration, I would like to verify that there are no missing values nor duplicates."
   ]
  },
  {
   "cell_type": "code",
   "execution_count": 10,
   "metadata": {},
   "outputs": [
    {
     "data": {
      "text/plain": [
       "overall         0\n",
       "verified        0\n",
       "reviewTime      0\n",
       "reviewerID      0\n",
       "asin            0\n",
       "reviewerName    0\n",
       "reviewText      0\n",
       "summary         0\n",
       "vote            0\n",
       "dtype: int64"
      ]
     },
     "execution_count": 10,
     "metadata": {},
     "output_type": "execute_result"
    }
   ],
   "source": [
    "#let's check if there are any missing values\n",
    "clean_beauty_df.isna().sum()"
   ]
  },
  {
   "cell_type": "markdown",
   "metadata": {},
   "source": [
    "Great! No more missing values."
   ]
  },
  {
   "cell_type": "markdown",
   "metadata": {},
   "source": [
    "#### Duplicates"
   ]
  },
  {
   "cell_type": "code",
   "execution_count": 11,
   "metadata": {},
   "outputs": [
    {
     "data": {
      "text/plain": [
       "8694"
      ]
     },
     "execution_count": 11,
     "metadata": {},
     "output_type": "execute_result"
    }
   ],
   "source": [
    "#let's check if there are any duplicate rows\n",
    "clean_beauty_df.duplicated().sum()"
   ]
  },
  {
   "cell_type": "markdown",
   "metadata": {},
   "source": [
    "We have 8694 duplicates! Let's take a look at some of the rows to see why this might be happening."
   ]
  },
  {
   "cell_type": "code",
   "execution_count": 12,
   "metadata": {},
   "outputs": [
    {
     "data": {
      "text/html": [
       "<div>\n",
       "<style scoped>\n",
       "    .dataframe tbody tr th:only-of-type {\n",
       "        vertical-align: middle;\n",
       "    }\n",
       "\n",
       "    .dataframe tbody tr th {\n",
       "        vertical-align: top;\n",
       "    }\n",
       "\n",
       "    .dataframe thead th {\n",
       "        text-align: right;\n",
       "    }\n",
       "</style>\n",
       "<table border=\"1\" class=\"dataframe\">\n",
       "  <thead>\n",
       "    <tr style=\"text-align: right;\">\n",
       "      <th></th>\n",
       "      <th>overall</th>\n",
       "      <th>verified</th>\n",
       "      <th>reviewTime</th>\n",
       "      <th>reviewerID</th>\n",
       "      <th>asin</th>\n",
       "      <th>reviewerName</th>\n",
       "      <th>reviewText</th>\n",
       "      <th>summary</th>\n",
       "      <th>vote</th>\n",
       "    </tr>\n",
       "  </thead>\n",
       "  <tbody>\n",
       "    <tr>\n",
       "      <td>7161</td>\n",
       "      <td>5</td>\n",
       "      <td>1</td>\n",
       "      <td>2014-11-19</td>\n",
       "      <td>A3AMP8ZS2WQ94N</td>\n",
       "      <td>B0000530HU</td>\n",
       "      <td>Antonio Dias</td>\n",
       "      <td>ok</td>\n",
       "      <td>Five Stars</td>\n",
       "      <td>0</td>\n",
       "    </tr>\n",
       "    <tr>\n",
       "      <td>12325</td>\n",
       "      <td>5</td>\n",
       "      <td>1</td>\n",
       "      <td>2016-03-09</td>\n",
       "      <td>A3MW93I43BV8DD</td>\n",
       "      <td>B00011QUDE</td>\n",
       "      <td>michelle</td>\n",
       "      <td>excellent</td>\n",
       "      <td>Five Stars</td>\n",
       "      <td>0</td>\n",
       "    </tr>\n",
       "    <tr>\n",
       "      <td>13910</td>\n",
       "      <td>5</td>\n",
       "      <td>1</td>\n",
       "      <td>2017-12-29</td>\n",
       "      <td>A1GCZCBN67Q4AY</td>\n",
       "      <td>B0001AD4TS</td>\n",
       "      <td>Fred</td>\n",
       "      <td>my wife loves it</td>\n",
       "      <td>Five Stars</td>\n",
       "      <td>0</td>\n",
       "    </tr>\n",
       "    <tr>\n",
       "      <td>18388</td>\n",
       "      <td>5</td>\n",
       "      <td>1</td>\n",
       "      <td>2016-08-30</td>\n",
       "      <td>A3RPGLL3257S2X</td>\n",
       "      <td>B0002JHI1I</td>\n",
       "      <td>Nancy B</td>\n",
       "      <td>very satisfied</td>\n",
       "      <td>Five Stars</td>\n",
       "      <td>0</td>\n",
       "    </tr>\n",
       "    <tr>\n",
       "      <td>20379</td>\n",
       "      <td>5</td>\n",
       "      <td>1</td>\n",
       "      <td>2015-11-21</td>\n",
       "      <td>A2GVXFM3PB7EHV</td>\n",
       "      <td>B00070D21W</td>\n",
       "      <td>dennis paulk</td>\n",
       "      <td>very good</td>\n",
       "      <td>Five Stars</td>\n",
       "      <td>0</td>\n",
       "    </tr>\n",
       "  </tbody>\n",
       "</table>\n",
       "</div>"
      ],
      "text/plain": [
       "       overall  verified reviewTime      reviewerID        asin  reviewerName  \\\n",
       "7161         5         1 2014-11-19  A3AMP8ZS2WQ94N  B0000530HU  Antonio Dias   \n",
       "12325        5         1 2016-03-09  A3MW93I43BV8DD  B00011QUDE      michelle   \n",
       "13910        5         1 2017-12-29  A1GCZCBN67Q4AY  B0001AD4TS          Fred   \n",
       "18388        5         1 2016-08-30  A3RPGLL3257S2X  B0002JHI1I       Nancy B   \n",
       "20379        5         1 2015-11-21  A2GVXFM3PB7EHV  B00070D21W  dennis paulk   \n",
       "\n",
       "             reviewText     summary  vote  \n",
       "7161                 ok  Five Stars     0  \n",
       "12325         excellent  Five Stars     0  \n",
       "13910  my wife loves it  Five Stars     0  \n",
       "18388    very satisfied  Five Stars     0  \n",
       "20379         very good  Five Stars     0  "
      ]
     },
     "execution_count": 12,
     "metadata": {},
     "output_type": "execute_result"
    }
   ],
   "source": [
    "#let's look at a couple of duplicate rows\n",
    "clean_beauty_df[clean_beauty_df.duplicated()].head()"
   ]
  },
  {
   "cell_type": "markdown",
   "metadata": {},
   "source": [
    "<br>\n",
    "I'm going to look at some reviewer - product combinations to see why there are duplicates. Let's take a look at the first two reviewers (reviewerID: A3AMP8ZS2WQ94N, A3MW93I43BV8DD) and their associated products they reviewed (asin: B0000530HU, B00011QUDE)."
   ]
  },
  {
   "cell_type": "code",
   "execution_count": 13,
   "metadata": {},
   "outputs": [
    {
     "data": {
      "text/html": [
       "<div>\n",
       "<style scoped>\n",
       "    .dataframe tbody tr th:only-of-type {\n",
       "        vertical-align: middle;\n",
       "    }\n",
       "\n",
       "    .dataframe tbody tr th {\n",
       "        vertical-align: top;\n",
       "    }\n",
       "\n",
       "    .dataframe thead th {\n",
       "        text-align: right;\n",
       "    }\n",
       "</style>\n",
       "<table border=\"1\" class=\"dataframe\">\n",
       "  <thead>\n",
       "    <tr style=\"text-align: right;\">\n",
       "      <th></th>\n",
       "      <th>overall</th>\n",
       "      <th>verified</th>\n",
       "      <th>reviewTime</th>\n",
       "      <th>reviewerID</th>\n",
       "      <th>asin</th>\n",
       "      <th>reviewerName</th>\n",
       "      <th>reviewText</th>\n",
       "      <th>summary</th>\n",
       "      <th>vote</th>\n",
       "    </tr>\n",
       "  </thead>\n",
       "  <tbody>\n",
       "    <tr>\n",
       "      <td>7160</td>\n",
       "      <td>5</td>\n",
       "      <td>1</td>\n",
       "      <td>2014-11-19</td>\n",
       "      <td>A3AMP8ZS2WQ94N</td>\n",
       "      <td>B0000530HU</td>\n",
       "      <td>Antonio Dias</td>\n",
       "      <td>ok</td>\n",
       "      <td>Five Stars</td>\n",
       "      <td>0</td>\n",
       "    </tr>\n",
       "    <tr>\n",
       "      <td>7161</td>\n",
       "      <td>5</td>\n",
       "      <td>1</td>\n",
       "      <td>2014-11-19</td>\n",
       "      <td>A3AMP8ZS2WQ94N</td>\n",
       "      <td>B0000530HU</td>\n",
       "      <td>Antonio Dias</td>\n",
       "      <td>ok</td>\n",
       "      <td>Five Stars</td>\n",
       "      <td>0</td>\n",
       "    </tr>\n",
       "  </tbody>\n",
       "</table>\n",
       "</div>"
      ],
      "text/plain": [
       "      overall  verified reviewTime      reviewerID        asin  reviewerName  \\\n",
       "7160        5         1 2014-11-19  A3AMP8ZS2WQ94N  B0000530HU  Antonio Dias   \n",
       "7161        5         1 2014-11-19  A3AMP8ZS2WQ94N  B0000530HU  Antonio Dias   \n",
       "\n",
       "     reviewText     summary  vote  \n",
       "7160         ok  Five Stars     0  \n",
       "7161         ok  Five Stars     0  "
      ]
     },
     "execution_count": 13,
     "metadata": {},
     "output_type": "execute_result"
    }
   ],
   "source": [
    "#reviewer: A3AMP8ZS2WQ94N; asin: B0000530HU\n",
    "clean_beauty_df[(clean_beauty_df['reviewerID'] == 'A3AMP8ZS2WQ94N') & (clean_beauty_df['asin'] == 'B0000530HU')]"
   ]
  },
  {
   "cell_type": "code",
   "execution_count": 14,
   "metadata": {},
   "outputs": [
    {
     "data": {
      "text/html": [
       "<div>\n",
       "<style scoped>\n",
       "    .dataframe tbody tr th:only-of-type {\n",
       "        vertical-align: middle;\n",
       "    }\n",
       "\n",
       "    .dataframe tbody tr th {\n",
       "        vertical-align: top;\n",
       "    }\n",
       "\n",
       "    .dataframe thead th {\n",
       "        text-align: right;\n",
       "    }\n",
       "</style>\n",
       "<table border=\"1\" class=\"dataframe\">\n",
       "  <thead>\n",
       "    <tr style=\"text-align: right;\">\n",
       "      <th></th>\n",
       "      <th>overall</th>\n",
       "      <th>verified</th>\n",
       "      <th>reviewTime</th>\n",
       "      <th>reviewerID</th>\n",
       "      <th>asin</th>\n",
       "      <th>reviewerName</th>\n",
       "      <th>reviewText</th>\n",
       "      <th>summary</th>\n",
       "      <th>vote</th>\n",
       "    </tr>\n",
       "  </thead>\n",
       "  <tbody>\n",
       "    <tr>\n",
       "      <td>12324</td>\n",
       "      <td>5</td>\n",
       "      <td>1</td>\n",
       "      <td>2016-03-09</td>\n",
       "      <td>A3MW93I43BV8DD</td>\n",
       "      <td>B00011QUDE</td>\n",
       "      <td>michelle</td>\n",
       "      <td>excellent</td>\n",
       "      <td>Five Stars</td>\n",
       "      <td>0</td>\n",
       "    </tr>\n",
       "    <tr>\n",
       "      <td>12325</td>\n",
       "      <td>5</td>\n",
       "      <td>1</td>\n",
       "      <td>2016-03-09</td>\n",
       "      <td>A3MW93I43BV8DD</td>\n",
       "      <td>B00011QUDE</td>\n",
       "      <td>michelle</td>\n",
       "      <td>excellent</td>\n",
       "      <td>Five Stars</td>\n",
       "      <td>0</td>\n",
       "    </tr>\n",
       "  </tbody>\n",
       "</table>\n",
       "</div>"
      ],
      "text/plain": [
       "       overall  verified reviewTime      reviewerID        asin reviewerName  \\\n",
       "12324        5         1 2016-03-09  A3MW93I43BV8DD  B00011QUDE     michelle   \n",
       "12325        5         1 2016-03-09  A3MW93I43BV8DD  B00011QUDE     michelle   \n",
       "\n",
       "      reviewText     summary  vote  \n",
       "12324  excellent  Five Stars     0  \n",
       "12325  excellent  Five Stars     0  "
      ]
     },
     "execution_count": 14,
     "metadata": {},
     "output_type": "execute_result"
    }
   ],
   "source": [
    "#reviewer: A3MW93I43BV8DD; asin: B00011QUDE\n",
    "clean_beauty_df[(clean_beauty_df['reviewerID'] == 'A3MW93I43BV8DD') & (clean_beauty_df['asin'] == 'B00011QUDE')]"
   ]
  },
  {
   "cell_type": "markdown",
   "metadata": {},
   "source": [
    "In both cases, they have the same review listed twice in the dataset, but there is no clear reason for duplication. \n",
    "\n",
    "Let's go back to the original dataset (pre-cleaning) to see what might be the cause."
   ]
  },
  {
   "cell_type": "code",
   "execution_count": 15,
   "metadata": {},
   "outputs": [
    {
     "data": {
      "text/html": [
       "<div>\n",
       "<style scoped>\n",
       "    .dataframe tbody tr th:only-of-type {\n",
       "        vertical-align: middle;\n",
       "    }\n",
       "\n",
       "    .dataframe tbody tr th {\n",
       "        vertical-align: top;\n",
       "    }\n",
       "\n",
       "    .dataframe thead th {\n",
       "        text-align: right;\n",
       "    }\n",
       "</style>\n",
       "<table border=\"1\" class=\"dataframe\">\n",
       "  <thead>\n",
       "    <tr style=\"text-align: right;\">\n",
       "      <th></th>\n",
       "      <th>overall</th>\n",
       "      <th>verified</th>\n",
       "      <th>reviewTime</th>\n",
       "      <th>reviewerID</th>\n",
       "      <th>asin</th>\n",
       "      <th>reviewerName</th>\n",
       "      <th>reviewText</th>\n",
       "      <th>summary</th>\n",
       "      <th>unixReviewTime</th>\n",
       "      <th>vote</th>\n",
       "      <th>style</th>\n",
       "      <th>image</th>\n",
       "    </tr>\n",
       "  </thead>\n",
       "  <tbody>\n",
       "    <tr>\n",
       "      <td>7165</td>\n",
       "      <td>5</td>\n",
       "      <td>True</td>\n",
       "      <td>11 19, 2014</td>\n",
       "      <td>A3AMP8ZS2WQ94N</td>\n",
       "      <td>B0000530HU</td>\n",
       "      <td>Antonio Dias</td>\n",
       "      <td>ok</td>\n",
       "      <td>Five Stars</td>\n",
       "      <td>1416355200</td>\n",
       "      <td>NaN</td>\n",
       "      <td>{'Size:': ' 7.0 oz', 'Flavor:': ' Classic Ice ...</td>\n",
       "      <td>NaN</td>\n",
       "    </tr>\n",
       "    <tr>\n",
       "      <td>7166</td>\n",
       "      <td>5</td>\n",
       "      <td>True</td>\n",
       "      <td>11 19, 2014</td>\n",
       "      <td>A3AMP8ZS2WQ94N</td>\n",
       "      <td>B0000530HU</td>\n",
       "      <td>Antonio Dias</td>\n",
       "      <td>ok</td>\n",
       "      <td>Five Stars</td>\n",
       "      <td>1416355200</td>\n",
       "      <td>NaN</td>\n",
       "      <td>NaN</td>\n",
       "      <td>NaN</td>\n",
       "    </tr>\n",
       "  </tbody>\n",
       "</table>\n",
       "</div>"
      ],
      "text/plain": [
       "      overall  verified   reviewTime      reviewerID        asin  \\\n",
       "7165        5      True  11 19, 2014  A3AMP8ZS2WQ94N  B0000530HU   \n",
       "7166        5      True  11 19, 2014  A3AMP8ZS2WQ94N  B0000530HU   \n",
       "\n",
       "      reviewerName reviewText     summary  unixReviewTime vote  \\\n",
       "7165  Antonio Dias         ok  Five Stars      1416355200  NaN   \n",
       "7166  Antonio Dias         ok  Five Stars      1416355200  NaN   \n",
       "\n",
       "                                                  style image  \n",
       "7165  {'Size:': ' 7.0 oz', 'Flavor:': ' Classic Ice ...   NaN  \n",
       "7166                                                NaN   NaN  "
      ]
     },
     "execution_count": 15,
     "metadata": {},
     "output_type": "execute_result"
    }
   ],
   "source": [
    "#reviewer: A3AMP8ZS2WQ94N; asin: B0000530HU in original dataset\n",
    "beauty_df[(beauty_df['reviewerID'] == 'A3AMP8ZS2WQ94N') & (beauty_df['asin'] == 'B0000530HU')]"
   ]
  },
  {
   "cell_type": "code",
   "execution_count": 16,
   "metadata": {},
   "outputs": [
    {
     "data": {
      "text/html": [
       "<div>\n",
       "<style scoped>\n",
       "    .dataframe tbody tr th:only-of-type {\n",
       "        vertical-align: middle;\n",
       "    }\n",
       "\n",
       "    .dataframe tbody tr th {\n",
       "        vertical-align: top;\n",
       "    }\n",
       "\n",
       "    .dataframe thead th {\n",
       "        text-align: right;\n",
       "    }\n",
       "</style>\n",
       "<table border=\"1\" class=\"dataframe\">\n",
       "  <thead>\n",
       "    <tr style=\"text-align: right;\">\n",
       "      <th></th>\n",
       "      <th>overall</th>\n",
       "      <th>verified</th>\n",
       "      <th>reviewTime</th>\n",
       "      <th>reviewerID</th>\n",
       "      <th>asin</th>\n",
       "      <th>reviewerName</th>\n",
       "      <th>reviewText</th>\n",
       "      <th>summary</th>\n",
       "      <th>unixReviewTime</th>\n",
       "      <th>vote</th>\n",
       "      <th>style</th>\n",
       "      <th>image</th>\n",
       "    </tr>\n",
       "  </thead>\n",
       "  <tbody>\n",
       "    <tr>\n",
       "      <td>12330</td>\n",
       "      <td>5</td>\n",
       "      <td>True</td>\n",
       "      <td>03 9, 2016</td>\n",
       "      <td>A3MW93I43BV8DD</td>\n",
       "      <td>B00011QUDE</td>\n",
       "      <td>michelle</td>\n",
       "      <td>excellent</td>\n",
       "      <td>Five Stars</td>\n",
       "      <td>1457481600</td>\n",
       "      <td>NaN</td>\n",
       "      <td>{'Style Name:': ' 1505'}</td>\n",
       "      <td>NaN</td>\n",
       "    </tr>\n",
       "    <tr>\n",
       "      <td>12331</td>\n",
       "      <td>5</td>\n",
       "      <td>True</td>\n",
       "      <td>03 9, 2016</td>\n",
       "      <td>A3MW93I43BV8DD</td>\n",
       "      <td>B00011QUDE</td>\n",
       "      <td>michelle</td>\n",
       "      <td>excellent</td>\n",
       "      <td>Five Stars</td>\n",
       "      <td>1457481600</td>\n",
       "      <td>NaN</td>\n",
       "      <td>{'Style Name:': ' 1507'}</td>\n",
       "      <td>NaN</td>\n",
       "    </tr>\n",
       "  </tbody>\n",
       "</table>\n",
       "</div>"
      ],
      "text/plain": [
       "       overall  verified  reviewTime      reviewerID        asin reviewerName  \\\n",
       "12330        5      True  03 9, 2016  A3MW93I43BV8DD  B00011QUDE     michelle   \n",
       "12331        5      True  03 9, 2016  A3MW93I43BV8DD  B00011QUDE     michelle   \n",
       "\n",
       "      reviewText     summary  unixReviewTime vote                     style  \\\n",
       "12330  excellent  Five Stars      1457481600  NaN  {'Style Name:': ' 1505'}   \n",
       "12331  excellent  Five Stars      1457481600  NaN  {'Style Name:': ' 1507'}   \n",
       "\n",
       "      image  \n",
       "12330   NaN  \n",
       "12331   NaN  "
      ]
     },
     "execution_count": 16,
     "metadata": {},
     "output_type": "execute_result"
    }
   ],
   "source": [
    "#reviewer: A3MW93I43BV8DD; asin: B00011QUDE in original dataset\n",
    "beauty_df[(beauty_df['reviewerID'] == 'A3MW93I43BV8DD') & (beauty_df['asin'] == 'B00011QUDE')]"
   ]
  },
  {
   "cell_type": "markdown",
   "metadata": {},
   "source": [
    "In both cases, we see that all the features are the same except for the style column. There were changes to the style column but we omitted the style column in our cleaning steps as it was deemed an irrelevant feature. So if we ignore the style column and note that all other features are the same for each review, we can, therefore, **remove the duplicates**. "
   ]
  },
  {
   "cell_type": "code",
   "execution_count": 17,
   "metadata": {},
   "outputs": [],
   "source": [
    "#removing duplicates\n",
    "clean_beauty_df.drop_duplicates(inplace=True)"
   ]
  },
  {
   "cell_type": "code",
   "execution_count": 18,
   "metadata": {},
   "outputs": [
    {
     "name": "stdout",
     "output_type": "stream",
     "text": [
      "Number of duplicates: 0\n",
      "shape: (362252, 9)\n"
     ]
    }
   ],
   "source": [
    "#verify there are no more duplicates and check how many rows & features exist in the cleaned dataset\n",
    "print(f'Number of duplicates: {clean_beauty_df.duplicated().sum()}')\n",
    "print(f'shape: {clean_beauty_df.shape}')"
   ]
  },
  {
   "cell_type": "markdown",
   "metadata": {},
   "source": [
    "Great! No more duplicates and we now have 362,252 reviews (rows) and 9 features.\n",
    "\n",
    "*I will update the cleanDF function in the functions_library to include the removal of duplicates.*\n",
    "\n",
    "Please proceed to next notebook where I will perform data exploration."
   ]
  }
 ],
 "metadata": {
  "kernelspec": {
   "display_name": "Python 3",
   "language": "python",
   "name": "python3"
  },
  "language_info": {
   "codemirror_mode": {
    "name": "ipython",
    "version": 3
   },
   "file_extension": ".py",
   "mimetype": "text/x-python",
   "name": "python",
   "nbconvert_exporter": "python",
   "pygments_lexer": "ipython3",
   "version": "3.7.4"
  }
 },
 "nbformat": 4,
 "nbformat_minor": 4
}
