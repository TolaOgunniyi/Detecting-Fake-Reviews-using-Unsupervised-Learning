{
 "cells": [
  {
   "cell_type": "markdown",
   "metadata": {},
   "source": [
    "# Part 2: Data Selection and Engineering\n",
    "\n",
    "#### Author: Ali Eddeb\n",
    "\n",
    "In this notebook, I will be loading the cleaned Amazon review dataset for the beauty product category. The goal of this notebook is to explore the data and determine what are important features that can help determine fake reviews, including features that can be engineered."
   ]
  },
  {
   "cell_type": "code",
   "execution_count": 25,
   "metadata": {},
   "outputs": [],
   "source": [
    "#importing relevant libraries\n",
    "import numpy as np\n",
    "import pandas as pd\n",
    "import matplotlib.pyplot as plt\n",
    "import seaborn as sns"
   ]
  },
  {
   "cell_type": "code",
   "execution_count": 2,
   "metadata": {},
   "outputs": [],
   "source": [
    "#importing the functions library that I created that includes the function that cleans the data\n",
    "import functions_library as fl"
   ]
  },
  {
   "cell_type": "code",
   "execution_count": 3,
   "metadata": {},
   "outputs": [],
   "source": [
    "#let's load in our dataset and apply the cleaning steps outlined in the previous notebook\n",
    "file = 'All_Beauty.json.gz'\n",
    "df = fl.cleanDF(fl.createPdDF(file))"
   ]
  },
  {
   "cell_type": "code",
   "execution_count": 4,
   "metadata": {},
   "outputs": [
    {
     "data": {
      "text/html": [
       "<div>\n",
       "<style scoped>\n",
       "    .dataframe tbody tr th:only-of-type {\n",
       "        vertical-align: middle;\n",
       "    }\n",
       "\n",
       "    .dataframe tbody tr th {\n",
       "        vertical-align: top;\n",
       "    }\n",
       "\n",
       "    .dataframe thead th {\n",
       "        text-align: right;\n",
       "    }\n",
       "</style>\n",
       "<table border=\"1\" class=\"dataframe\">\n",
       "  <thead>\n",
       "    <tr style=\"text-align: right;\">\n",
       "      <th></th>\n",
       "      <th>overall</th>\n",
       "      <th>verified</th>\n",
       "      <th>reviewTime</th>\n",
       "      <th>reviewerID</th>\n",
       "      <th>asin</th>\n",
       "      <th>reviewerName</th>\n",
       "      <th>reviewText</th>\n",
       "      <th>summary</th>\n",
       "      <th>vote</th>\n",
       "    </tr>\n",
       "  </thead>\n",
       "  <tbody>\n",
       "    <tr>\n",
       "      <td>362247</td>\n",
       "      <td>1</td>\n",
       "      <td>1</td>\n",
       "      <td>2017-07-20</td>\n",
       "      <td>A202DCI7TV1022</td>\n",
       "      <td>B01HJEGTYK</td>\n",
       "      <td>Sam</td>\n",
       "      <td>It was awful. It was super frizzy and I tried ...</td>\n",
       "      <td>It was super frizzy and I tried to comb it and...</td>\n",
       "      <td>0</td>\n",
       "    </tr>\n",
       "    <tr>\n",
       "      <td>362248</td>\n",
       "      <td>5</td>\n",
       "      <td>1</td>\n",
       "      <td>2017-03-16</td>\n",
       "      <td>A3FSOR5IJOFIBE</td>\n",
       "      <td>B01HJEGTYK</td>\n",
       "      <td>TYW</td>\n",
       "      <td>I was skeptical about buying this.  Worried it...</td>\n",
       "      <td>Awesome</td>\n",
       "      <td>34</td>\n",
       "    </tr>\n",
       "    <tr>\n",
       "      <td>362249</td>\n",
       "      <td>5</td>\n",
       "      <td>1</td>\n",
       "      <td>2017-03-01</td>\n",
       "      <td>A1B5DK6CTP2P24</td>\n",
       "      <td>B01HJEGTYK</td>\n",
       "      <td>Norma Jennings</td>\n",
       "      <td>Makes me look good fast.</td>\n",
       "      <td>Five Stars</td>\n",
       "      <td>46</td>\n",
       "    </tr>\n",
       "    <tr>\n",
       "      <td>362250</td>\n",
       "      <td>2</td>\n",
       "      <td>1</td>\n",
       "      <td>2017-02-21</td>\n",
       "      <td>A23OUYS5IRMJS9</td>\n",
       "      <td>B01HJEGTYK</td>\n",
       "      <td>Lee</td>\n",
       "      <td>Way lighter than photo\\nNot mix blend of color...</td>\n",
       "      <td>Ok but color way off and volume as well</td>\n",
       "      <td>0</td>\n",
       "    </tr>\n",
       "    <tr>\n",
       "      <td>362251</td>\n",
       "      <td>2</td>\n",
       "      <td>1</td>\n",
       "      <td>2016-12-15</td>\n",
       "      <td>A24KQ9RVU81L87</td>\n",
       "      <td>B01HJEGTYK</td>\n",
       "      <td>Season341</td>\n",
       "      <td>No return instructions/phone # in packaging.  ...</td>\n",
       "      <td>Might return for a replacement if I could.</td>\n",
       "      <td>0</td>\n",
       "    </tr>\n",
       "  </tbody>\n",
       "</table>\n",
       "</div>"
      ],
      "text/plain": [
       "        overall  verified reviewTime      reviewerID        asin  \\\n",
       "362247        1         1 2017-07-20  A202DCI7TV1022  B01HJEGTYK   \n",
       "362248        5         1 2017-03-16  A3FSOR5IJOFIBE  B01HJEGTYK   \n",
       "362249        5         1 2017-03-01  A1B5DK6CTP2P24  B01HJEGTYK   \n",
       "362250        2         1 2017-02-21  A23OUYS5IRMJS9  B01HJEGTYK   \n",
       "362251        2         1 2016-12-15  A24KQ9RVU81L87  B01HJEGTYK   \n",
       "\n",
       "          reviewerName                                         reviewText  \\\n",
       "362247             Sam  It was awful. It was super frizzy and I tried ...   \n",
       "362248             TYW  I was skeptical about buying this.  Worried it...   \n",
       "362249  Norma Jennings                           Makes me look good fast.   \n",
       "362250             Lee  Way lighter than photo\\nNot mix blend of color...   \n",
       "362251       Season341  No return instructions/phone # in packaging.  ...   \n",
       "\n",
       "                                                  summary  vote  \n",
       "362247  It was super frizzy and I tried to comb it and...     0  \n",
       "362248                                            Awesome    34  \n",
       "362249                                         Five Stars    46  \n",
       "362250            Ok but color way off and volume as well     0  \n",
       "362251         Might return for a replacement if I could.     0  "
      ]
     },
     "execution_count": 4,
     "metadata": {},
     "output_type": "execute_result"
    }
   ],
   "source": [
    "#make sure df was loaded in correctly\n",
    "df.tail()"
   ]
  },
  {
   "cell_type": "markdown",
   "metadata": {},
   "source": [
    "## 1. Features\n",
    "Let's begin by determining, from the existing features, what should be included for modelling."
   ]
  },
  {
   "cell_type": "code",
   "execution_count": 5,
   "metadata": {},
   "outputs": [
    {
     "data": {
      "text/plain": [
       "Index(['overall', 'verified', 'reviewTime', 'reviewerID', 'asin',\n",
       "       'reviewerName', 'reviewText', 'summary', 'vote'],\n",
       "      dtype='object')"
      ]
     },
     "execution_count": 5,
     "metadata": {},
     "output_type": "execute_result"
    }
   ],
   "source": [
    "#what are the features?\n",
    "df.columns"
   ]
  },
  {
   "cell_type": "markdown",
   "metadata": {},
   "source": [
    "##### Let's go through each feature and determine if it is relevant to the problem. Additionally, let's determine if there are features that can be engineered from the existing features."
   ]
  },
  {
   "cell_type": "markdown",
   "metadata": {},
   "source": [
    "1. **Overall** - this is an important feature. This feature represents the rating the customer gave to the product. This is helpful as we expect fake reviews to either have a rating of 5 (highest rating) or 1 (lowest rating). **keep feature**\n",
    "\n",
    "2. **Verified** - represents whether or not the review is associated with a verified purchase of the product. This is another important feature as we may see more unverified purchases related to fake negative reviews. **keep feature**\n",
    "\n",
    "3. **reviewTime** - represents the date the review was published on Amazon. When performing exploration (in the next notebook), we can use this date tp look at some trends over time. There is an issue: models can only be built on numeric features and so, we cannot use this feature as it is a date. To remedy this, we can extract cyclical components of the date, which can be represented numerically, and include them for modelling. E.g. month  **remove feature but create new features based on the cyclical components of the date**\n",
    "\n",
    "4. **reviewerID** - represents a unique ID for the customer that is submitting the review. Given this is a string variable, we cannot use this feature directly. However, we can look at behavioural patterns of reviewers and then encode them numerically; this will require some data exploration. **remove feature but explore reviewer behaviours that can be used to engineer features**\n",
    "\n",
    "5. **asin** - represents a unique ID for the product that is being reviewed. Like reviewerID, this is a string variable and so, we cannot use this feature directly. However, we could look at product features (e.g. is it a brand name product) that can be encoded numerically. Again, this will require some data exploration. **remove feature but explore product features that can be used to engineer features**\n",
    "\n",
    "6. **reviewerName** - represents the customer's name. This is a string variable and cannot be used directly for modelling. Recall, there were some reviewers that included there and some that did not and they were referred to as 'Amazon Customer'. There are 2 options here: 1) tokenize the names or 2) convert this feature to binary in which the decision criterion is whether or not their name is included. Will require some exploration to figure which option to go with. **convert this feature to binary or tokenize**\n",
    "\n",
    "7. **reviewText** - represents the customer's review. This is one of the most important features in the data. The goal here would be to tokenize the text in the review in order to use it for modelling. Can also get a word count. **tokenize feature and get word count**\n",
    "\n",
    "8. **summary** - the title for the review which is also submitted by the customer. Although the text in the summary field may be similar to that of the review, it may give us some insight into what a fake review looks like. Can also get a word count. **tokenize feature and get word count**\n",
    "\n",
    "9. **vote** - represents the number of votes from other people that found the review helpful. This can be a useful feature and it is numeric. **keep feature**"
   ]
  },
  {
   "cell_type": "markdown",
   "metadata": {},
   "source": [
    "## 2. Feature Selection and Engineering\n",
    "From the section above, we can break down the features as follows:\n",
    "1. Features to keep:\\\n",
    "Overall, Verified, Vote\n",
    "2. Features that can have components extracted but the original feature will be omitted:\\\n",
    "reviewTime, reviewerID, asin\n",
    "3. Feature that require some sort of manipulation in order to be used:\\\n",
    "reviewerName, reviewText, summary\n",
    "\n",
    "Let's go through each of these groups of features and explore what adjustments are to be performed (if necessary)."
   ]
  },
  {
   "cell_type": "markdown",
   "metadata": {},
   "source": [
    "### 2.1 Features to Keep \n",
    "##### Overall, Verified, Vote\n",
    "For these features, they are already in a numeric format and can be used directly for modelling. No adjustments are necessary."
   ]
  },
  {
   "cell_type": "markdown",
   "metadata": {},
   "source": [
    "### 2.2 Features that can have components extracted but the original feature will be omitted:\n",
    "##### reviewTime, reviewerID, asin"
   ]
  },
  {
   "cell_type": "markdown",
   "metadata": {},
   "source": [
    "#### 2.2.1 reviewTime\n",
    "For review time, we can extract the cyclical components of the date. \n",
    "\n",
    "##### New features: Month and Day of Week\n",
    "\n",
    "I plan on extracting the **month** and the **day of the week**.\n",
    "This can be done as follows:\n",
    "```python\n",
    "#get the month the review was posted in\n",
    "dataframe['month'] = pd.DatetimeIndex(dataframe['reviewTime']).month\n",
    "\n",
    "#get the day of the week the review was posted as an integer (Monday=0,Sunday=6)\n",
    "dataframe['dayofweek'] = pd.DatetimeIndex(dataframe['reviewTime']).dayofweek\n",
    "```\n",
    "Then the reviewTime feature can be omitted as it is a datetime feature which cannot be used for modelling."
   ]
  },
  {
   "cell_type": "markdown",
   "metadata": {},
   "source": [
    "#### 2.2.2 reviewerID\n",
    "We can look at behavioural patterns of reviewers and then encode their behaviour numerically. This will require some data exploration."
   ]
  },
  {
   "cell_type": "code",
   "execution_count": 14,
   "metadata": {},
   "outputs": [
    {
     "data": {
      "text/plain": [
       "A2GJX2KCUSR0EI    25\n",
       "A1KSC91G9AIY2Z    22\n",
       "A1EGCED01USBA9    21\n",
       "AENH50GW3OKDA     20\n",
       "A22CW0ZHY3NJH8    20\n",
       "                  ..\n",
       "A18CX344FM8P2P     1\n",
       "A2TAYRXDIX33QO     1\n",
       "A4VUF5N4M4RK4      1\n",
       "A7KPWIWSQ9LF0      1\n",
       "A26S1RZJDHUHR4     1\n",
       "Name: reviewerID, Length: 323687, dtype: int64"
      ]
     },
     "execution_count": 14,
     "metadata": {},
     "output_type": "execute_result"
    }
   ],
   "source": [
    "#let's first see how many reviews are posted per reviewer\n",
    "df[\"reviewerID\"].value_counts()"
   ]
  },
  {
   "cell_type": "code",
   "execution_count": 17,
   "metadata": {},
   "outputs": [
    {
     "data": {
      "text/plain": [
       "array([ 1,  1,  1,  1,  1,  1,  1,  1,  1,  1,  1,  1,  1,  1,  1,  1,  1,\n",
       "        1,  1,  2, 25])"
      ]
     },
     "execution_count": 17,
     "metadata": {},
     "output_type": "execute_result"
    }
   ],
   "source": [
    "#let's get a better understanding by looking at the number of reviews per reviewer as quantiles\n",
    "np.quantile(df['reviewerID'].value_counts().values, np.arange(0,1.05,0.05)).astype(int)"
   ]
  },
  {
   "cell_type": "markdown",
   "metadata": {},
   "source": [
    "As we can see here, up to the 90th percentile, reviewers only gave 1 review. This feature seemingly would not be a good candidate for inclusion when modelling. However, I will include it on the basis that I will make improvements to the model in future iterations.\n",
    "\n",
    "##### New feature: Multiple reviews per reviewer (True/False represented in binary)\n",
    "\n",
    "```python\n",
    "    #creating feature that indicates whether each review is the only review a reviewer has posted or \n",
    "    #if they have posted other reviews as well (no=0, yes=1)\n",
    "    #1. start by getting a dictionary of the number of reviews per unique reviewer\n",
    "    map_numreviews = dataframe['reviewerID'].value_counts().to_dict()\n",
    "    #2. map the dictionary above to the reviewers in the dataframe and create a new column from this\n",
    "    dataframe['multipleReviews_reviewer'] = dataframe['reviewerID'].map(map_numreviews)\n",
    "    #3. finally, convert the number of reviews to binary: 1 review = 0; more than 1 review = 1\n",
    "    dataframe['multipleReviews_reviewer'] = np.where(dataframe['multipleReviews_reviewer'] > 1, 1, 0)\n",
    "```"
   ]
  },
  {
   "cell_type": "markdown",
   "metadata": {},
   "source": [
    "Now, let's look at voting patterns of reviewers."
   ]
  },
  {
   "cell_type": "code",
   "execution_count": 18,
   "metadata": {},
   "outputs": [
    {
     "data": {
      "image/png": "[encoded data removed]",
      "text/plain": [
       "<Figure size 1080x792 with 15 Axes>"
      ]
     },
     "metadata": {
      "needs_background": "light"
     },
     "output_type": "display_data"
    }
   ],
   "source": [
    "plt.subplots(3,5, figsize=(15,11))\n",
    "\n",
    "for i in range(0,15):\n",
    "    #get reviewers ID\n",
    "    reviewer = df[\"reviewerID\"].value_counts().index[i]\n",
    "    #get value counts for each reviewer (the overall rating they give with each review)\n",
    "    data = df['overall'][df['reviewerID'] == reviewer].value_counts()\n",
    "    \n",
    "    #now let's look at a couple different reviewers and their rating pattern\n",
    "    plt.subplot(3,5,i+1)\n",
    "    plt.bar(data.index, data.values)\n",
    "    plt.title(reviewer)\n",
    "    plt.xlim(0,6)\n",
    "    plt.xticks(range(6))\n",
    "plt.show()"
   ]
  },
  {
   "cell_type": "markdown",
   "metadata": {},
   "source": [
    "Based on the above, we can highlight the following **types of reviewers:**\n",
    "1. A bit of everything\n",
    "- Mostly 5\n",
    "- evenly distributed\n",
    "2. 3, 4 and 5 but mostly 5\n",
    "3. Mainly 5 with few 4 scores\n",
    "4. Only 5\n",
    "\n",
    "The most suspicious group of reviewers is the fourth group that only gave 5 star reviews. This group could potentially incentivized to give these 5 star reviews but there is still a large chance that these are genuine reviewers.\n",
    "\n",
    "Now, we don't observe the opposite behaviour, reviewers only giving 1 star ratings. I surmise that if a business is going to try and undercut their competitor(s), they would want to give many 1 star ratings but to do so, they would need to use multiple accounts. For that reason, we would not expect to see reviewers with many 1 star reviews, rather there would be more reviewers with just 1 1-star review. Let's check out the data to see if this hypothesis holds up."
   ]
  },
  {
   "cell_type": "markdown",
   "metadata": {},
   "source": [
    "Let's use the code created above to create a binary feature for reviews per reviewer. If the reviewer had posted more than 1 review, then this new feature will be equal to 1 (ie. True), but it they only posted one review, then this feature will be equal to 0 (ie. false)."
   ]
  },
  {
   "cell_type": "code",
   "execution_count": 24,
   "metadata": {},
   "outputs": [],
   "source": [
    "#creating feature that indicates whether each review is the only review a reviewer has posted or if the reviewer has posted other \n",
    "#reviews as well (no=0, yes=1)\n",
    "\n",
    "#1. start by getting a dictionary of the number of reviews per unique reviewer\n",
    "map_numreviews = df['reviewerID'].value_counts().to_dict()\n",
    "#2. map the dictionary above to the reviewers in the dataframe and create a new column from this\n",
    "df['multipleReviews_reviewer'] = df['reviewerID'].map(map_numreviews)\n",
    "#3. finally, convert the number of reviews to binary: 1 review = 0; more than 1 review = 1\n",
    "df['multipleReviews_reviewer'] = np.where(df['multipleReviews_reviewer'] > 1, 1, 0)"
   ]
  },
  {
   "cell_type": "code",
   "execution_count": 27,
   "metadata": {},
   "outputs": [
    {
     "data": {
      "image/png": "[encoded data removed]",
      "text/plain": [
       "<Figure size 864x288 with 2 Axes>"
      ]
     },
     "metadata": {
      "needs_background": "light"
     },
     "output_type": "display_data"
    }
   ],
   "source": [
    "plt.subplots(1,2, figsize=(12,4))\n",
    "\n",
    "plt.subplot(1,2,1)\n",
    "sns.countplot(x='overall', data=df[df['multipleReviews_reviewer']==0])\n",
    "plt.title('ratings from reviewers with 1 review only')\n",
    "\n",
    "plt.subplot(1,2,2)\n",
    "sns.countplot(x='overall', data=df[df['multipleReviews_reviewer']==1])\n",
    "plt.title('ratings from reviewers with more than 1 review')\n",
    "\n",
    "plt.show()"
   ]
  },
  {
   "cell_type": "markdown",
   "metadata": {},
   "source": [
    "As we can see, the proportion of 1-star reviews is higher from reviewers that only posted 1 review compared to reviewers that posted more than 1 review. This gives some credence to my assumption that if a business is going to try and undercut their competitor(s), they would want to give many 1 star ratings but to do so, they would need to use multiple accounts. For that reason, we would not expect to see reviewers with many 1 star reviews, rather there would be more reviewers with just 1 1-star review."
   ]
  },
  {
   "cell_type": "markdown",
   "metadata": {},
   "source": [
    "From this, we can create 2 new features. Whether a reviewer only posted 1) 5-star reviews or 2) 1-star reviews. Then we can match this with the other feature, multipleReviews_reviewer, to get an overall sense of reviewer behaviour. \n",
    "\n",
    "##### New Features: 1) Reviewer 5 Star Only & 2) Reviewer 1 Star Only \n",
    "Both are True/False represented in binary\n",
    "\n",
    "Here is the code to create the new features:\n",
    "\n",
    "```python\n",
    "    #create new features that display if a reviewer only gave 5 star reviews or one star reviews\n",
    "    #1. need a dictionary of booleans which checks if they only have 5 or 1 star reviews\n",
    "    map_five = dataframe['overall'].groupby(dataframe['reviewerID']).agg(lambda x: (np.unique(x)==5).all()).to_dict()\n",
    "    map_one = dataframe['overall'].groupby(dataframe['reviewerID']).agg(lambda x: (np.unique(x)==1).all()).to_dict()\n",
    "    #2. create new columns with mappings created above\n",
    "    dataframe['reviewer_five_star_only'] = dataframe['reviewerID'].map(map_five)\n",
    "    dataframe['reviewer_one_star_only'] = dataframe['reviewerID'].map(map_one)\n",
    "    #3. convert booleans to binary\n",
    "    dataframe['reviewer_five_star_only'] = dataframe['reviewer_five_star_only'].astype(int)\n",
    "    dataframe['reviewer_one_star_only'] = dataframe['reviewer_one_star_only'].astype(int)\n",
    "```"
   ]
  },
  {
   "cell_type": "markdown",
   "metadata": {},
   "source": [
    "#### 2.2.3 Asin\n",
    "Asin is just the unique product ID for the product being reviewed. The one feature we can extract is we can check how many reviews a certain product has. This can give us an indication of how popular a product is. The more reviews, the more popular. From this, we could see if more popular or less popular products tend to have more fake reviews.\n",
    "\n",
    "##### New Feature: Number of Reviews per Product\n",
    "\n",
    "This is the code to get the popularity of product based on the number of reviews:\n",
    "\n",
    "```python\n",
    "    #get number of reviews associated with each product (asin) - to be used as a popularity index\n",
    "    #1. create a map of the number of reviews per product\n",
    "    map_numreviews = dataframe['asin'].value_counts().to_dict()\n",
    "    #2. map the dictionary to the asin (product IDs) and create a new column based off that\n",
    "    dataframe['numReviews_product'] = dataframe['asin'].map(map_numreviews) \n",
    "```"
   ]
  },
  {
   "cell_type": "markdown",
   "metadata": {},
   "source": [
    "### 2.3 Feature that require some sort of manipulation in order to be used\n",
    "##### reviewerName, reviewText, summary"
   ]
  },
  {
   "cell_type": "markdown",
   "metadata": {},
   "source": [
    "#### 2.3.1 reviewerName\n",
    "There are a lot of unique customer names. However, as we have seen before, there were unnamed customers - there names were simply listed as 'Amazon Customer'.\n",
    "Thus, we can convert reviewerName to a new feature which checks if someone has listed their name or not.\n",
    "\n",
    "Here is the code to do so.\n",
    "\n",
    "```python\n",
    "#checking if customer provided their name or not (binary)\n",
    "#if the customer's name is NOT 'Amazon Customer', then nameProvided = True (ie. 1). Otherwise, False.\n",
    "dataframe['nameProvided'] = np.where(dataframe['reviewerName'] != 'Amazon Customer',1,0)\n",
    "```"
   ]
  },
  {
   "cell_type": "markdown",
   "metadata": {},
   "source": [
    "##### 2.3.2/3 reviewText and summary\n",
    "We can treat these 2 features similarly. Both features contain text. We can tokenize the text in each feature, which I will do in a later notebook. However, for now, we create another feature which is word count. We can get word counts for both the reviewText and summary fields.\n",
    "\n",
    "##### New Features: Word Counts\n",
    "\n",
    "Here is the code to get the word counts for each:\n",
    "\n",
    "```python\n",
    "#getting word counts for review and summary columns\n",
    "dataframe['review_word_count'] = dataframe['reviewText'].str.split().str.len()\n",
    "dataframe['summary_word_count'] = dataframe['summary'].str.split().str.len()\n",
    "```"
   ]
  },
  {
   "cell_type": "markdown",
   "metadata": {},
   "source": [
    "## Final function for Feature Engineering\n",
    "Now that we have gone through and created all the new features and made adjustments to the existing features, we can aggregate all the changes made into a new function for future use. Here is the function, named featureEngin:"
   ]
  },
  {
   "cell_type": "code",
   "execution_count": null,
   "metadata": {},
   "outputs": [],
   "source": [
    "def featureEngin(dataframe):\n",
    "    '''\n",
    "    This functions create several new features and adds them to the dataframe that is passed through as the argument.\n",
    "    \n",
    "    New features:\n",
    "    \n",
    "    1. Adds review word count and summary word count to the DataFrame.\n",
    "    \n",
    "    2. Extracts the cyclical components of the date and creates a column for each.\n",
    "    The cyclical componenets are month(1-12) and day of week(0-6).  \n",
    "    \n",
    "    3. Creating feature that indicates whether each review is the only review a reviewer has posted or if they have posted other reviews as well (no=0, yes=1)\n",
    "    \n",
    "    4. Create new features that display if a reviewer only gave 5 star reviews or one star reviews (both are binary features)\n",
    "    \n",
    "    5. Get number of reviews associated with each product (asin) to be used as a popularity index\n",
    "\n",
    "    6. Checking if customer provided their name or not (binary)\n",
    "\n",
    "    Returns original dataframe that was passed in with these new features listed above.\n",
    "    '''\n",
    "    #adding word counts for review and summary columns\n",
    "    dataframe['review_word_count'] = dataframe['reviewText'].str.split().str.len()\n",
    "    dataframe['summary_word_count'] = dataframe['summary'].str.split().str.len()\n",
    "    \n",
    "    #get the month the review was posted in\n",
    "    #https://pandas.pydata.org/pandas-docs/stable/reference/api/pandas.DatetimeIndex.html\n",
    "    dataframe['month'] = pd.DatetimeIndex(dataframe['reviewTime']).month\n",
    "\n",
    "    #get the day of the week the review was posted as an integer (Monday=0,Sunday=6)\n",
    "    dataframe['dayofweek'] = pd.DatetimeIndex(dataframe['reviewTime']).dayofweek\n",
    "    \n",
    "    #creating feature that indicates whether each review is the only review a reviewer has posted or \n",
    "    #if they have posted other reviews as well (no=0, yes=1)\n",
    "    #1. start by getting a dictionary of the number of reviews per unique reviewer\n",
    "    map_numreviews = dataframe['reviewerID'].value_counts().to_dict()\n",
    "    #2. map the dictionary above to the reviewers in the dataframe and create a new column from this\n",
    "    dataframe['multipleReviews_reviewer'] = dataframe['reviewerID'].map(map_numreviews)\n",
    "    #3. finally, convert the number of reviews to binary: 1 review = 0; more than 1 review = 1\n",
    "    dataframe['multipleReviews_reviewer'] = np.where(dataframe['multipleReviews_reviewer'] > 1, 1, 0)\n",
    "    \n",
    "    #create new features that display if a reviewer only gave 5 star reviews or one star reviews\n",
    "    #1. need a dictionary of booleans which checks if they only have 5 or 1 star reviews\n",
    "    map_five = dataframe['overall'].groupby(dataframe['reviewerID']).agg(lambda x: (np.unique(x)==5).all()).to_dict()\n",
    "    map_one = dataframe['overall'].groupby(dataframe['reviewerID']).agg(lambda x: (np.unique(x)==1).all()).to_dict()\n",
    "    #2. create new columns with mappings created above\n",
    "    dataframe['reviewer_five_star_only'] = dataframe['reviewerID'].map(map_five)\n",
    "    dataframe['reviewer_one_star_only'] = dataframe['reviewerID'].map(map_one)\n",
    "    #3. convert booleans to binary\n",
    "    dataframe['reviewer_five_star_only'] = dataframe['reviewer_five_star_only'].astype(int)\n",
    "    dataframe['reviewer_one_star_only'] = dataframe['reviewer_one_star_only'].astype(int)\n",
    "\n",
    "    #get number of reviews associated with each product (asin) - to be used as a popularity index\n",
    "    #1. create a map of the number of reviews per product\n",
    "    map_numreviews = dataframe['asin'].value_counts().to_dict()\n",
    "    #2. map the dictionary to the asin (product IDs) and create a new column based off that\n",
    "    dataframe['numReviews_product'] = dataframe['asin'].map(map_numreviews) \n",
    "    \n",
    "    #checking if customer provided their name or not (binary)\n",
    "    dataframe['nameProvided'] = np.where(dataframe['reviewerName'] != 'Amazon Customer',1,0)\n",
    "\n",
    "    return dataframe"
   ]
  },
  {
   "cell_type": "markdown",
   "metadata": {},
   "source": [
    "Now proceed to the next notebook (data exploration)."
   ]
  }
 ],
 "metadata": {
  "kernelspec": {
   "display_name": "Python 3",
   "language": "python",
   "name": "python3"
  },
  "language_info": {
   "codemirror_mode": {
    "name": "ipython",
    "version": 3
   },
   "file_extension": ".py",
   "mimetype": "text/x-python",
   "name": "python",
   "nbconvert_exporter": "python",
   "pygments_lexer": "ipython3",
   "version": "3.7.4"
  }
 },
 "nbformat": 4,
 "nbformat_minor": 4
}
