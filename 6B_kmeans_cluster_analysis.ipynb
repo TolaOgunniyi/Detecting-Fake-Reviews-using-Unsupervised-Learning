{
 "cells": [
  {
   "cell_type": "markdown",
   "metadata": {},
   "source": [
    "# Part 6B: KMeans Cluster Analysis\n",
    "\n",
    "The goal of this notebook is to explore the clusters and try to find a cluster of reviews that shows signs of fake reviews.\n",
    "\n",
    "Recall, signs of fake reviews include:\n",
    "- extreme ratings\n",
    "- unverified purchases\n",
    "- grand claims\n",
    "- shorter reviews"
   ]
  },
  {
   "cell_type": "code",
   "execution_count": 1,
   "metadata": {},
   "outputs": [],
   "source": [
    "#import relevant libraries\n",
    "import pandas as pd\n",
    "import matplotlib.pyplot as plt"
   ]
  },
  {
   "cell_type": "code",
   "execution_count": 2,
   "metadata": {},
   "outputs": [],
   "source": [
    "#read in dataframe that was saved from KMeans modelling which contains cluster labels\n",
    "df = pd.read_hdf('df_recon_25_kmeans.h5')"
   ]
  },
  {
   "cell_type": "code",
   "execution_count": 3,
   "metadata": {},
   "outputs": [
    {
     "data": {
      "text/html": [
       "<div>\n",
       "<style scoped>\n",
       "    .dataframe tbody tr th:only-of-type {\n",
       "        vertical-align: middle;\n",
       "    }\n",
       "\n",
       "    .dataframe tbody tr th {\n",
       "        vertical-align: top;\n",
       "    }\n",
       "\n",
       "    .dataframe thead th {\n",
       "        text-align: right;\n",
       "    }\n",
       "</style>\n",
       "<table border=\"1\" class=\"dataframe\">\n",
       "  <thead>\n",
       "    <tr style=\"text-align: right;\">\n",
       "      <th></th>\n",
       "      <th>overall</th>\n",
       "      <th>verified</th>\n",
       "      <th>vote</th>\n",
       "      <th>review_word_count</th>\n",
       "      <th>summary_word_count</th>\n",
       "      <th>month</th>\n",
       "      <th>dayofweek</th>\n",
       "      <th>multipleReviews_reviewer</th>\n",
       "      <th>reviewer_five_star_only</th>\n",
       "      <th>reviewer_one_star_only</th>\n",
       "      <th>...</th>\n",
       "      <th>s_without</th>\n",
       "      <th>s_wonderful</th>\n",
       "      <th>s_work</th>\n",
       "      <th>s_work s_great</th>\n",
       "      <th>s_work s_well</th>\n",
       "      <th>s_worked</th>\n",
       "      <th>s_worth</th>\n",
       "      <th>s_would</th>\n",
       "      <th>s_year</th>\n",
       "      <th>cluster</th>\n",
       "    </tr>\n",
       "  </thead>\n",
       "  <tbody>\n",
       "    <tr>\n",
       "      <td>0</td>\n",
       "      <td>-0.775258</td>\n",
       "      <td>0.130785</td>\n",
       "      <td>-0.000425</td>\n",
       "      <td>-0.019818</td>\n",
       "      <td>-0.016907</td>\n",
       "      <td>-0.390117</td>\n",
       "      <td>0.027182</td>\n",
       "      <td>-0.189801</td>\n",
       "      <td>-0.592289</td>\n",
       "      <td>0.899579</td>\n",
       "      <td>...</td>\n",
       "      <td>-0.001103</td>\n",
       "      <td>-0.004522</td>\n",
       "      <td>-0.022374</td>\n",
       "      <td>-0.006090</td>\n",
       "      <td>-0.004304</td>\n",
       "      <td>-0.003206</td>\n",
       "      <td>-0.005645</td>\n",
       "      <td>-0.004455</td>\n",
       "      <td>-0.002427</td>\n",
       "      <td>16</td>\n",
       "    </tr>\n",
       "    <tr>\n",
       "      <td>1</td>\n",
       "      <td>-0.027542</td>\n",
       "      <td>0.131010</td>\n",
       "      <td>-0.000566</td>\n",
       "      <td>-0.012916</td>\n",
       "      <td>0.021773</td>\n",
       "      <td>0.518848</td>\n",
       "      <td>0.027025</td>\n",
       "      <td>-0.189819</td>\n",
       "      <td>-0.591693</td>\n",
       "      <td>-0.100261</td>\n",
       "      <td>...</td>\n",
       "      <td>-0.006918</td>\n",
       "      <td>-0.004950</td>\n",
       "      <td>-0.021839</td>\n",
       "      <td>-0.004066</td>\n",
       "      <td>-0.015223</td>\n",
       "      <td>-0.000866</td>\n",
       "      <td>-0.004818</td>\n",
       "      <td>-0.000869</td>\n",
       "      <td>0.000219</td>\n",
       "      <td>7</td>\n",
       "    </tr>\n",
       "    <tr>\n",
       "      <td>2</td>\n",
       "      <td>-0.027449</td>\n",
       "      <td>0.131147</td>\n",
       "      <td>-0.000941</td>\n",
       "      <td>-0.027126</td>\n",
       "      <td>-0.013213</td>\n",
       "      <td>0.155418</td>\n",
       "      <td>0.527154</td>\n",
       "      <td>-0.189739</td>\n",
       "      <td>-0.591660</td>\n",
       "      <td>-0.099925</td>\n",
       "      <td>...</td>\n",
       "      <td>-0.003795</td>\n",
       "      <td>-0.006535</td>\n",
       "      <td>-0.022886</td>\n",
       "      <td>-0.006072</td>\n",
       "      <td>-0.017917</td>\n",
       "      <td>-0.006196</td>\n",
       "      <td>0.984855</td>\n",
       "      <td>-0.004369</td>\n",
       "      <td>-0.003650</td>\n",
       "      <td>7</td>\n",
       "    </tr>\n",
       "    <tr>\n",
       "      <td>3</td>\n",
       "      <td>0.221121</td>\n",
       "      <td>0.131100</td>\n",
       "      <td>-0.000310</td>\n",
       "      <td>-0.012637</td>\n",
       "      <td>-0.000041</td>\n",
       "      <td>-0.299398</td>\n",
       "      <td>-0.472866</td>\n",
       "      <td>-0.189783</td>\n",
       "      <td>0.409290</td>\n",
       "      <td>-0.099796</td>\n",
       "      <td>...</td>\n",
       "      <td>-0.001775</td>\n",
       "      <td>-0.003465</td>\n",
       "      <td>-0.021763</td>\n",
       "      <td>-0.005543</td>\n",
       "      <td>0.003075</td>\n",
       "      <td>-0.001060</td>\n",
       "      <td>-0.003278</td>\n",
       "      <td>-0.007252</td>\n",
       "      <td>0.000409</td>\n",
       "      <td>15</td>\n",
       "    </tr>\n",
       "    <tr>\n",
       "      <td>4</td>\n",
       "      <td>0.222099</td>\n",
       "      <td>0.130949</td>\n",
       "      <td>0.000121</td>\n",
       "      <td>0.004423</td>\n",
       "      <td>-0.004015</td>\n",
       "      <td>0.518907</td>\n",
       "      <td>0.527137</td>\n",
       "      <td>-0.189830</td>\n",
       "      <td>0.408338</td>\n",
       "      <td>-0.100702</td>\n",
       "      <td>...</td>\n",
       "      <td>-0.003217</td>\n",
       "      <td>-0.004468</td>\n",
       "      <td>-0.021190</td>\n",
       "      <td>-0.006283</td>\n",
       "      <td>-0.023773</td>\n",
       "      <td>-0.003040</td>\n",
       "      <td>-0.004445</td>\n",
       "      <td>-0.008995</td>\n",
       "      <td>-0.003038</td>\n",
       "      <td>21</td>\n",
       "    </tr>\n",
       "  </tbody>\n",
       "</table>\n",
       "<p>5 rows × 1348 columns</p>\n",
       "</div>"
      ],
      "text/plain": [
       "    overall  verified      vote  review_word_count  summary_word_count  \\\n",
       "0 -0.775258  0.130785 -0.000425          -0.019818           -0.016907   \n",
       "1 -0.027542  0.131010 -0.000566          -0.012916            0.021773   \n",
       "2 -0.027449  0.131147 -0.000941          -0.027126           -0.013213   \n",
       "3  0.221121  0.131100 -0.000310          -0.012637           -0.000041   \n",
       "4  0.222099  0.130949  0.000121           0.004423           -0.004015   \n",
       "\n",
       "      month  dayofweek  multipleReviews_reviewer  reviewer_five_star_only  \\\n",
       "0 -0.390117   0.027182                 -0.189801                -0.592289   \n",
       "1  0.518848   0.027025                 -0.189819                -0.591693   \n",
       "2  0.155418   0.527154                 -0.189739                -0.591660   \n",
       "3 -0.299398  -0.472866                 -0.189783                 0.409290   \n",
       "4  0.518907   0.527137                 -0.189830                 0.408338   \n",
       "\n",
       "   reviewer_one_star_only  ...  s_without  s_wonderful    s_work  \\\n",
       "0                0.899579  ...  -0.001103    -0.004522 -0.022374   \n",
       "1               -0.100261  ...  -0.006918    -0.004950 -0.021839   \n",
       "2               -0.099925  ...  -0.003795    -0.006535 -0.022886   \n",
       "3               -0.099796  ...  -0.001775    -0.003465 -0.021763   \n",
       "4               -0.100702  ...  -0.003217    -0.004468 -0.021190   \n",
       "\n",
       "   s_work s_great  s_work s_well  s_worked   s_worth   s_would    s_year  \\\n",
       "0       -0.006090      -0.004304 -0.003206 -0.005645 -0.004455 -0.002427   \n",
       "1       -0.004066      -0.015223 -0.000866 -0.004818 -0.000869  0.000219   \n",
       "2       -0.006072      -0.017917 -0.006196  0.984855 -0.004369 -0.003650   \n",
       "3       -0.005543       0.003075 -0.001060 -0.003278 -0.007252  0.000409   \n",
       "4       -0.006283      -0.023773 -0.003040 -0.004445 -0.008995 -0.003038   \n",
       "\n",
       "   cluster  \n",
       "0       16  \n",
       "1        7  \n",
       "2        7  \n",
       "3       15  \n",
       "4       21  \n",
       "\n",
       "[5 rows x 1348 columns]"
      ]
     },
     "execution_count": 3,
     "metadata": {},
     "output_type": "execute_result"
    }
   ],
   "source": [
    "df.head()"
   ]
  },
  {
   "cell_type": "markdown",
   "metadata": {},
   "source": [
    "Note that df was reconstructed from principal components so the values can be negative.\n",
    "\n",
    "### Cluster Analysis\n",
    "\n",
    "Let's begin by looking at the non-token features."
   ]
  },
  {
   "cell_type": "code",
   "execution_count": 4,
   "metadata": {},
   "outputs": [],
   "source": [
    "#getting names of non-token features and cluster for analysis\n",
    "non_tokens_clust = list(df.columns[0:12]) + ['cluster']"
   ]
  },
  {
   "cell_type": "code",
   "execution_count": 5,
   "metadata": {},
   "outputs": [],
   "source": [
    "#getting names of token features and cluster for analysis\n",
    "tokens_clust = list(df.columns[12:])"
   ]
  },
  {
   "cell_type": "markdown",
   "metadata": {},
   "source": [
    "#### Non-token Features\n",
    "Let's look for clusters with mainly extreme ratings, unverified purchases, lower amount of helpful votes and shorter reviews."
   ]
  },
  {
   "cell_type": "markdown",
   "metadata": {},
   "source": [
    "##### Rating"
   ]
  },
  {
   "cell_type": "code",
   "execution_count": 7,
   "metadata": {},
   "outputs": [
    {
     "data": {
      "text/plain": [
       "cluster\n",
       "13    0.223134\n",
       "14    0.223113\n",
       "21    0.223107\n",
       "18    0.223099\n",
       "15    0.223097\n",
       "19    0.223097\n",
       "3     0.223084\n",
       "4     0.223063\n",
       "1     0.223062\n",
       "10    0.223052\n",
       "20    0.223051\n",
       "22    0.223048\n",
       "24    0.222991\n",
       "12    0.220682\n",
       "6    -0.027316\n",
       "17   -0.106536\n",
       "11   -0.129214\n",
       "8    -0.185155\n",
       "0    -0.206045\n",
       "23   -0.212856\n",
       "7    -0.217475\n",
       "2    -0.276496\n",
       "9    -0.525931\n",
       "16   -0.776851\n",
       "5    -0.776880\n",
       "Name: overall, dtype: float64"
      ]
     },
     "execution_count": 7,
     "metadata": {},
     "output_type": "execute_result"
    }
   ],
   "source": [
    "#let's look at average rating by cluster\n",
    "df.loc[:,non_tokens_clust].groupby('cluster').mean().iloc[:,0].sort_values(ascending=False)"
   ]
  },
  {
   "cell_type": "markdown",
   "metadata": {},
   "source": [
    "From here we can see that about half of the clusters have a mean of 0.223 rating. As we know, the data was heavily skewed to high ratings (ie. 5) so this on its own is not informative. What is interesting though is clusters 5 and 16 have the lowest ratings."
   ]
  },
  {
   "cell_type": "markdown",
   "metadata": {},
   "source": [
    "##### Verified Purchase"
   ]
  },
  {
   "cell_type": "code",
   "execution_count": 8,
   "metadata": {},
   "outputs": [
    {
     "data": {
      "text/plain": [
       "cluster\n",
       "11    0.131004\n",
       "7     0.131001\n",
       "15    0.130997\n",
       "4     0.130985\n",
       "3     0.130981\n",
       "19    0.130977\n",
       "21    0.130975\n",
       "20    0.130969\n",
       "1     0.097232\n",
       "9     0.092485\n",
       "2     0.083035\n",
       "6     0.079025\n",
       "12    0.078321\n",
       "24    0.075816\n",
       "18    0.075221\n",
       "16    0.070596\n",
       "10    0.051100\n",
       "23    0.041967\n",
       "14    0.034178\n",
       "0    -0.000496\n",
       "5    -0.032907\n",
       "13   -0.084745\n",
       "17   -0.125904\n",
       "22   -0.869014\n",
       "8    -0.869077\n",
       "Name: verified, dtype: float64"
      ]
     },
     "execution_count": 8,
     "metadata": {},
     "output_type": "execute_result"
    }
   ],
   "source": [
    "#let's look at average verified purchase by cluster\n",
    "df.loc[:,non_tokens_clust].groupby('cluster').mean().iloc[:,1].sort_values(ascending=False)"
   ]
  },
  {
   "cell_type": "markdown",
   "metadata": {},
   "source": [
    "Very interesting. **Clusters 22 and 8** both have the most negative values which indicate they have the largest number of **unverified** purchases. These are good candidates too look into further."
   ]
  },
  {
   "cell_type": "markdown",
   "metadata": {},
   "source": [
    "##### Votes"
   ]
  },
  {
   "cell_type": "code",
   "execution_count": 23,
   "metadata": {},
   "outputs": [
    {
     "data": {
      "text/plain": [
       "cluster\n",
       "8     0.000714\n",
       "22    0.000612\n",
       "0     0.000413\n",
       "5     0.000339\n",
       "14    0.000291\n",
       "17    0.000212\n",
       "13    0.000137\n",
       "20    0.000025\n",
       "7    -0.000001\n",
       "15   -0.000010\n",
       "19   -0.000013\n",
       "21   -0.000041\n",
       "11   -0.000050\n",
       "23   -0.000069\n",
       "3    -0.000122\n",
       "4    -0.000126\n",
       "12   -0.000131\n",
       "9    -0.000251\n",
       "16   -0.000252\n",
       "10   -0.000312\n",
       "1    -0.000329\n",
       "2    -0.000333\n",
       "6    -0.000335\n",
       "18   -0.000337\n",
       "24   -0.000338\n",
       "Name: vote, dtype: float64"
      ]
     },
     "execution_count": 23,
     "metadata": {},
     "output_type": "execute_result"
    }
   ],
   "source": [
    "#let's look at average votes by cluster\n",
    "df.loc[:,non_tokens_clust].groupby('cluster').mean().iloc[:,2].sort_values(ascending=False)"
   ]
  },
  {
   "cell_type": "markdown",
   "metadata": {},
   "source": [
    "Clusters 22 and 8 have the highest number of votes. Strange considering they also had the highest number of unverified purchases."
   ]
  },
  {
   "cell_type": "markdown",
   "metadata": {},
   "source": [
    "##### Word Count"
   ]
  },
  {
   "cell_type": "code",
   "execution_count": 22,
   "metadata": {},
   "outputs": [
    {
     "data": {
      "text/plain": [
       "cluster\n",
       "8     0.023168\n",
       "22    0.017751\n",
       "0     0.012748\n",
       "17    0.012179\n",
       "14    0.009647\n",
       "13    0.006891\n",
       "11    0.004582\n",
       "7     0.004299\n",
       "5     0.002956\n",
       "23    0.002026\n",
       "15    0.001277\n",
       "21    0.001062\n",
       "20    0.000951\n",
       "19    0.000905\n",
       "12   -0.001091\n",
       "3    -0.002586\n",
       "4    -0.002603\n",
       "24   -0.012097\n",
       "2    -0.012795\n",
       "16   -0.012952\n",
       "9    -0.013025\n",
       "6    -0.013153\n",
       "10   -0.013604\n",
       "1    -0.013649\n",
       "18   -0.014514\n",
       "Name: review_word_count, dtype: float64"
      ]
     },
     "execution_count": 22,
     "metadata": {},
     "output_type": "execute_result"
    }
   ],
   "source": [
    "#let's look at average review word count by cluster\n",
    "df.loc[:,non_tokens_clust].groupby('cluster').mean().iloc[:,3].sort_values(ascending=False)"
   ]
  },
  {
   "cell_type": "markdown",
   "metadata": {},
   "source": [
    "Clusters 22 and 8 have the largest review word counts - this makes sense since they have the largest number of votes since longer reviews tend to have more information so they are more helpful. However, these clusters also have the highest number of unverified purchases which is counter-intuitive. This needs to be looked into further."
   ]
  },
  {
   "cell_type": "markdown",
   "metadata": {},
   "source": [
    "#### Reviewer Behaviour\n",
    "Let's look into **reviewer behaviour**. This may shed some more insight into whats happening in these clusters."
   ]
  },
  {
   "cell_type": "code",
   "execution_count": 19,
   "metadata": {},
   "outputs": [
    {
     "data": {
      "text/plain": [
       "cluster\n",
       "13    0.810170\n",
       "17    0.810139\n",
       "24    0.810090\n",
       "14    0.809524\n",
       "0     0.809156\n",
       "23   -0.046427\n",
       "6    -0.058021\n",
       "2    -0.067159\n",
       "9    -0.072113\n",
       "3    -0.111843\n",
       "12   -0.126895\n",
       "16   -0.151322\n",
       "5    -0.157405\n",
       "20   -0.189606\n",
       "18   -0.189824\n",
       "1    -0.189834\n",
       "10   -0.189835\n",
       "11   -0.189841\n",
       "7    -0.189841\n",
       "8    -0.189844\n",
       "21   -0.189851\n",
       "19   -0.189853\n",
       "4    -0.189856\n",
       "15   -0.189860\n",
       "22   -0.189862\n",
       "Name: multipleReviews_reviewer, dtype: float64"
      ]
     },
     "execution_count": 19,
     "metadata": {},
     "output_type": "execute_result"
    }
   ],
   "source": [
    "#let's look at multipleReviews_reviewer by cluster which informs us if reviewers post more than 1 review or not\n",
    "df.loc[:,non_tokens_clust].groupby('cluster').mean().iloc[:,7].sort_values(ascending=False)"
   ]
  },
  {
   "cell_type": "markdown",
   "metadata": {},
   "source": [
    "Clusters 22 and 8 are part of the lower third of clusters that have the lowest number of reviewers posting more than 1 review (ie. most reviewers post only 1 review). This sort of makes makes sense since these clusters also happen to have the highest number of unverified purchases and as we have seen before, there is a limit on the number of reviews that can be given with unverified purchases.\n",
    "\n",
    "In contrast, clusters 13, 17, 24, 14 and 0 have the highest number of reviewers with more than 1 review. We want to keep an eye out for those clusters as well as one of our assumptions was that fake reviewers could be incentivized to give a lot of fake 5 star reviews."
   ]
  },
  {
   "cell_type": "code",
   "execution_count": 20,
   "metadata": {},
   "outputs": [
    {
     "data": {
      "text/plain": [
       "cluster\n",
       "14    0.408039\n",
       "22    0.408026\n",
       "4     0.408025\n",
       "20    0.408022\n",
       "3     0.408020\n",
       "21    0.408018\n",
       "19    0.408018\n",
       "15    0.408015\n",
       "13    0.407986\n",
       "18    0.407876\n",
       "1     0.407813\n",
       "10    0.407768\n",
       "12    0.398355\n",
       "24    0.240673\n",
       "6    -0.591830\n",
       "9    -0.591954\n",
       "17   -0.591957\n",
       "5    -0.591979\n",
       "23   -0.591990\n",
       "7    -0.591992\n",
       "2    -0.591998\n",
       "16   -0.592000\n",
       "8    -0.592008\n",
       "0    -0.592023\n",
       "11   -0.592025\n",
       "Name: reviewer_five_star_only, dtype: float64"
      ]
     },
     "execution_count": 20,
     "metadata": {},
     "output_type": "execute_result"
    }
   ],
   "source": [
    "#let's look at multipleReviews_reviewer by cluster which informs us if reviewers post more than 1 review or not\n",
    "df.loc[:,non_tokens_clust].groupby('cluster').mean().iloc[:,8].sort_values(ascending=False)"
   ]
  },
  {
   "cell_type": "markdown",
   "metadata": {},
   "source": [
    "Cluster 22 among highest cluster with only 5-star reviewers. Notice cluster 8 is amongst the lowest. It you scroll up, it also did not possess extreme ratings as it was in the middle of the pack. This eliminates cluster 8 as we would expect extreme ratings from fake reviews.\n",
    "\n",
    "From the newly mentioned, clusters 14, 13 and 24 have high amount of 5-star reviewers. Let's revisit their features from above.\n",
    "- all had among the highest overall ratings\n",
    "- cluster 13 (and somewhat 14,24) had low amount of verified purchases\n",
    "- clusters 13 and 14 had high amount of votes where as 24 had the lowest (this raises suspicion on cluster 24)\n",
    "- clusters 13 and 14 had higher word counts where as 24 was amongst the lowest (this raises further suspicions on cluster 24)\n",
    "- and as we have seen, all had high amount of reviewers that post multiple reviews\n",
    "\n",
    "Based on the above, I want to keep a close eye on **cluster 24 and 22** as we move along the analysis.\n",
    "\n",
    "In addition, I went back and identified cluster 18 as having almost identical features as cluster 24. The main difference between the 2 is cluster 24 has many reviewers that posted more than 1 review where as cluster 18 is the opposite. So I will include **cluster 18** in further analysis as well."
   ]
  },
  {
   "cell_type": "markdown",
   "metadata": {},
   "source": [
    "#### Top Tokens per cluster\n",
    "Let's look at the top tokens per cluster."
   ]
  },
  {
   "cell_type": "code",
   "execution_count": 24,
   "metadata": {},
   "outputs": [],
   "source": [
    "#getting the mean token value per cluster\n",
    "df_tokens = df.loc[:,tokens_clust].groupby('cluster').mean() "
   ]
  },
  {
   "cell_type": "code",
   "execution_count": 25,
   "metadata": {},
   "outputs": [],
   "source": [
    "#getting review tokens\n",
    "df_review = df_tokens.iloc[:,0:1153]"
   ]
  },
  {
   "cell_type": "code",
   "execution_count": 26,
   "metadata": {},
   "outputs": [],
   "source": [
    "#gettings summary tokens\n",
    "df_summary = df_tokens.iloc[:,1153:]"
   ]
  },
  {
   "cell_type": "code",
   "execution_count": 28,
   "metadata": {},
   "outputs": [
    {
     "name": "stdout",
     "output_type": "stream",
     "text": [
      "r_skin         0.022568\n",
      "r_razor        0.013561\n",
      "r_product      0.013151\n",
      "r_using        0.011240\n",
      "r_hair         0.011105\n",
      "r_review       0.010927\n",
      "r_shave        0.010418\n",
      "r_ive          0.010025\n",
      "r_face         0.009837\n",
      "r_use          0.009801\n",
      "r_feel         0.009543\n",
      "r_used         0.009429\n",
      "r_also         0.009342\n",
      "r_cream        0.009123\n",
      "r_day          0.008566\n",
      "r_recommend    0.008131\n",
      "r_year         0.007840\n",
      "r_eye          0.007703\n",
      "r_amazing      0.007348\n",
      "r_shaver       0.007331\n",
      "Name: 22, dtype: float64\n",
      "s_great    0.037677\n",
      "s_love     0.032237\n",
      "s_best     0.027594\n",
      "Name: 22, dtype: float64\n"
     ]
    }
   ],
   "source": [
    "#now let's print the top 20 review tokens and top 3 summary tokens for cluster 22\n",
    "cluster=22\n",
    "print(df_review.iloc[cluster,:].sort_values(ascending=False)[0:20])\n",
    "print(df_summary.iloc[cluster,:].sort_values(ascending=False)[0:3])"
   ]
  },
  {
   "cell_type": "markdown",
   "metadata": {},
   "source": [
    "There is no clear trend in the top words in cluster 22. Let's look at cluster 24."
   ]
  },
  {
   "cell_type": "code",
   "execution_count": 37,
   "metadata": {},
   "outputs": [
    {
     "name": "stdout",
     "output_type": "stream",
     "text": [
      "r_love                   0.059927\n",
      "r_great                  0.048390\n",
      "r_good                   0.028893\n",
      "r_great r_product        0.016714\n",
      "r_excellent              0.015234\n",
      "r_nice                   0.011589\n",
      "r_work r_great           0.010057\n",
      "r_thank                  0.009268\n",
      "r_perfect                0.009075\n",
      "r_beautiful              0.007560\n",
      "r_good r_product         0.007318\n",
      "r_product                0.006703\n",
      "r_favorite               0.006528\n",
      "r_thanks                 0.006233\n",
      "r_awesome                0.005321\n",
      "r_excellent r_product    0.004746\n",
      "r_love r_product         0.004593\n",
      "r_best                   0.004534\n",
      "r_blush                  0.004309\n",
      "r_described              0.004086\n",
      "Name: 24, dtype: float64\n",
      "s_five s_star    0.492332\n",
      "s_five           0.492275\n",
      "s_star           0.382379\n",
      "Name: 24, dtype: float64\n"
     ]
    }
   ],
   "source": [
    "#now let's print the top 20 review tokens and top 3 summary tokens for cluster 24\n",
    "cluster=24\n",
    "print(df_review.iloc[cluster,:].sort_values(ascending=False)[0:20])\n",
    "print(df_summary.iloc[cluster,:].sort_values(ascending=False)[0:3])"
   ]
  },
  {
   "cell_type": "markdown",
   "metadata": {},
   "source": [
    "Ok this is clear. There are more general positive terms in this cluster. This fits perfectly in our description of fake reviews which would use more general postive terms and lacking personal details.\n",
    "\n",
    "Cluster 24 is emerging as a clear candidate."
   ]
  },
  {
   "cell_type": "code",
   "execution_count": 38,
   "metadata": {},
   "outputs": [
    {
     "name": "stdout",
     "output_type": "stream",
     "text": [
      "r_love                   0.068001\n",
      "r_great                  0.042623\n",
      "r_good                   0.030749\n",
      "r_perfect                0.018975\n",
      "r_great r_product        0.018291\n",
      "r_excellent              0.013513\n",
      "r_awesome                0.011508\n",
      "r_nice                   0.009661\n",
      "r_amazing                0.009618\n",
      "r_loved                  0.009607\n",
      "r_product                0.008806\n",
      "r_thank                  0.007181\n",
      "r_work r_great           0.006084\n",
      "r_thanks                 0.005791\n",
      "r_good r_product         0.004858\n",
      "r_love r_product         0.004644\n",
      "r_excellent r_product    0.004246\n",
      "r_beautiful              0.004180\n",
      "r_wonderful              0.003551\n",
      "r_best                   0.003237\n",
      "Name: 18, dtype: float64\n",
      "s_five s_star    0.492297\n",
      "s_five           0.492256\n",
      "s_star           0.382085\n",
      "Name: 18, dtype: float64\n"
     ]
    }
   ],
   "source": [
    "#now let's print the top 20 review tokens and top 3 summary tokens for cluster 18\n",
    "cluster=18\n",
    "print(df_review.iloc[cluster,:].sort_values(ascending=False)[0:20])\n",
    "print(df_summary.iloc[cluster,:].sort_values(ascending=False)[0:3])"
   ]
  },
  {
   "cell_type": "markdown",
   "metadata": {},
   "source": [
    "Just like cluster 24, cluster 18 contains general positive terms so cluster 18 is also a candidate for fake reviews."
   ]
  },
  {
   "cell_type": "markdown",
   "metadata": {},
   "source": [
    "Now let's visualize the top tokens that are associated with grand claims (e.g. best product ever!) and let's see which clusters have the highest amount of these tokens\n",
    "\n",
    "### Visualizing tokens\n",
    "\n",
    "Let's look at some tokens e.g. excellent, love and great product."
   ]
  },
  {
   "cell_type": "code",
   "execution_count": 53,
   "metadata": {},
   "outputs": [
    {
     "data": {
      "image/png": "[encoded data removed]",
      "text/plain": [
       "<Figure size 1296x360 with 3 Axes>"
      ]
     },
     "metadata": {
      "needs_background": "light"
     },
     "output_type": "display_data"
    }
   ],
   "source": [
    "tokens = ['r_excellent','r_love','r_great r_product']\n",
    "df_tokens = df[tokens+['cluster']].groupby('cluster').mean()\n",
    "\n",
    "plt.subplots(1,3, figsize=(18,5))\n",
    "for token in range(len(tokens)):\n",
    "    plt.subplot(1,3,token+1)\n",
    "    #plt.figure(figsize=(7,4))\n",
    "    plt.bar(df_tokens.index, df_tokens[tokens[token]])\n",
    "    plt.xticks(range(25))\n",
    "    plt.xlabel('clusters')\n",
    "    plt.ylabel('Prominence value')\n",
    "    plt.title(f'Prominence of term \"{tokens[token]}\" in each cluster')\n",
    "plt.tight_layout()\n",
    "plt.show()"
   ]
  },
  {
   "cell_type": "markdown",
   "metadata": {},
   "source": [
    "As can be seen, clusters 24 and 18 are among the highest, if not highest, clusters for the words excellent, love and great product. We can therefore conclude that these clusters are of lower quality given the shorter word lengths and use of general positive terms. This gives credenece that if fake reviews existed, they would most likely be contained within these 2 clusters.\n",
    "\n",
    "When I did LDA topic modelling, I noticed one topic had prominent terms such as exchange, discount, received product, unbiased and honest review which all indicate that some reviews were given in exchange for product. These are highly concerning because these reviews may be unreliable. Let's see if we can find a cluster with these terms from the Kmeans model."
   ]
  },
  {
   "cell_type": "code",
   "execution_count": 55,
   "metadata": {},
   "outputs": [
    {
     "data": {
      "image/png": "[encoded data removed]",
      "text/plain": [
       "<Figure size 1296x720 with 6 Axes>"
      ]
     },
     "metadata": {
      "needs_background": "light"
     },
     "output_type": "display_data"
    }
   ],
   "source": [
    "tokens = ['r_exchange','r_free','r_discount','r_received r_product','r_honest r_review', 'r_unbiased']\n",
    "df_tokens = df[tokens+['cluster']].groupby('cluster').mean()\n",
    "\n",
    "plt.subplots(2,3, figsize=(18,10))\n",
    "for token in range(len(tokens)):\n",
    "    plt.subplot(2,3,token+1)\n",
    "    #plt.figure(figsize=(7,4))\n",
    "    plt.bar(df_tokens.index, df_tokens[tokens[token]])\n",
    "    plt.xticks(range(25))\n",
    "    plt.xlabel('clusters')\n",
    "    plt.ylabel('Prominence value')\n",
    "    plt.title(f'Prominence of term \"{tokens[token]}\" in each cluster')\n",
    "plt.tight_layout()\n",
    "plt.show()"
   ]
  },
  {
   "cell_type": "markdown",
   "metadata": {},
   "source": [
    "Wow! Cluster 22 (and 8) has the highest values for all the terms mentioned. This solves the mystery of cluster 22. Seemingly people were giving 'honest' or 'unbiased' reviews in exchange for receiving product for free or at a discount. This may explain why the word count is longer as people were trying to give proper reviews of the products. Perhaps the reason there is low amount of verified purchases is beacuse the reviewers were given the product for free externally from Amazon in exchange for reviews. \n",
    "\n",
    "This means these reviews aren't necessarily fake but they may be unreliable because the reviews in cluster 22 are all 5 stars so seemingly the reviewers are more incentivized to give good reviews even though they claim to be giving unbiased reviews. As opposed to cluster 8, which only has 2, 3 and 4 star reviews which seems to contain more realistic reviews."
   ]
  },
  {
   "cell_type": "markdown",
   "metadata": {},
   "source": [
    "#### Conclusion:\n",
    "- clusters 24 and 18 have the most telltale features of fake reviews (5 stars, low word count, use of general positive terms)\n",
    "- the key difference between clusters 24 and 18 is reviewer behaviour. Reviewers in cluster 24 post more than 1 review where as in 18, they have only posted 1 review. This may indicate that some fake reviewers review multiple products where as in other cases, reviewers use different accounts perhaps to review the same product.\n",
    "- cluster 22 contains reviews of people who may have been incentivized to give good reviews; this does not necessarily mean the reviews are fake but they may be unreliable"
   ]
  }
 ],
 "metadata": {
  "kernelspec": {
   "display_name": "Python 3",
   "language": "python",
   "name": "python3"
  },
  "language_info": {
   "codemirror_mode": {
    "name": "ipython",
    "version": 3
   },
   "file_extension": ".py",
   "mimetype": "text/x-python",
   "name": "python",
   "nbconvert_exporter": "python",
   "pygments_lexer": "ipython3",
   "version": "3.7.4"
  }
 },
 "nbformat": 4,
 "nbformat_minor": 4
}
